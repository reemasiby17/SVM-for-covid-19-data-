{
 "cells": [
  {
   "cell_type": "code",
   "execution_count": 1,
   "id": "e63b57e0",
   "metadata": {},
   "outputs": [],
   "source": [
    "#importing libraries\n",
    "\n",
    "import pandas as pd\n",
    "import numpy as np\n",
    "import matplotlib.pyplot as plt\n",
    "import seaborn as sns"
   ]
  },
  {
   "cell_type": "code",
   "execution_count": 2,
   "id": "bf542284",
   "metadata": {},
   "outputs": [],
   "source": [
    "data = pd.read_csv(r\"C:\\Users\\reema\\Documents\\COVIDSenti-A.csv\")"
   ]
  },
  {
   "cell_type": "code",
   "execution_count": 3,
   "id": "8079aea0",
   "metadata": {
    "scrolled": true
   },
   "outputs": [
    {
     "data": {
      "text/html": [
       "<div>\n",
       "<style scoped>\n",
       "    .dataframe tbody tr th:only-of-type {\n",
       "        vertical-align: middle;\n",
       "    }\n",
       "\n",
       "    .dataframe tbody tr th {\n",
       "        vertical-align: top;\n",
       "    }\n",
       "\n",
       "    .dataframe thead th {\n",
       "        text-align: right;\n",
       "    }\n",
       "</style>\n",
       "<table border=\"1\" class=\"dataframe\">\n",
       "  <thead>\n",
       "    <tr style=\"text-align: right;\">\n",
       "      <th></th>\n",
       "      <th>tweet</th>\n",
       "      <th>label</th>\n",
       "    </tr>\n",
       "  </thead>\n",
       "  <tbody>\n",
       "    <tr>\n",
       "      <th>0</th>\n",
       "      <td>Coronavirus | Human Coronavirus Types | CDC ht...</td>\n",
       "      <td>neu</td>\n",
       "    </tr>\n",
       "    <tr>\n",
       "      <th>1</th>\n",
       "      <td>@shehryar_taseer That‚Äôs üíØ true , \\nCorona...</td>\n",
       "      <td>neu</td>\n",
       "    </tr>\n",
       "    <tr>\n",
       "      <th>2</th>\n",
       "      <td>TLDR: Not SARS, possibly new coronavirus. Diff...</td>\n",
       "      <td>neg</td>\n",
       "    </tr>\n",
       "    <tr>\n",
       "      <th>3</th>\n",
       "      <td>Disease outbreak news from the WHO: Middle Eas...</td>\n",
       "      <td>neu</td>\n",
       "    </tr>\n",
       "    <tr>\n",
       "      <th>4</th>\n",
       "      <td>China - Media: WSJ says sources tell them myst...</td>\n",
       "      <td>neu</td>\n",
       "    </tr>\n",
       "    <tr>\n",
       "      <th>...</th>\n",
       "      <td>...</td>\n",
       "      <td>...</td>\n",
       "    </tr>\n",
       "    <tr>\n",
       "      <th>29995</th>\n",
       "      <td>CDC: Re-test confirms Westerdam cruise ship pa...</td>\n",
       "      <td>neu</td>\n",
       "    </tr>\n",
       "    <tr>\n",
       "      <th>29996</th>\n",
       "      <td>Two doctors die of coronavirus within 24 hours...</td>\n",
       "      <td>neu</td>\n",
       "    </tr>\n",
       "    <tr>\n",
       "      <th>29997</th>\n",
       "      <td>BEIJING - The lockdown of Guo Jing's neighbour...</td>\n",
       "      <td>neu</td>\n",
       "    </tr>\n",
       "    <tr>\n",
       "      <th>29998</th>\n",
       "      <td>#CoronavirusOutbreak in #Balochistan !!\\n#CPEC...</td>\n",
       "      <td>neu</td>\n",
       "    </tr>\n",
       "    <tr>\n",
       "      <th>29999</th>\n",
       "      <td>The Australian dollar has hit a fresh decade l...</td>\n",
       "      <td>neu</td>\n",
       "    </tr>\n",
       "  </tbody>\n",
       "</table>\n",
       "<p>30000 rows × 2 columns</p>\n",
       "</div>"
      ],
      "text/plain": [
       "                                                   tweet label\n",
       "0      Coronavirus | Human Coronavirus Types | CDC ht...   neu\n",
       "1      @shehryar_taseer That‚Äôs üíØ true , \\nCorona...   neu\n",
       "2      TLDR: Not SARS, possibly new coronavirus. Diff...   neg\n",
       "3      Disease outbreak news from the WHO: Middle Eas...   neu\n",
       "4      China - Media: WSJ says sources tell them myst...   neu\n",
       "...                                                  ...   ...\n",
       "29995  CDC: Re-test confirms Westerdam cruise ship pa...   neu\n",
       "29996  Two doctors die of coronavirus within 24 hours...   neu\n",
       "29997  BEIJING - The lockdown of Guo Jing's neighbour...   neu\n",
       "29998  #CoronavirusOutbreak in #Balochistan !!\\n#CPEC...   neu\n",
       "29999  The Australian dollar has hit a fresh decade l...   neu\n",
       "\n",
       "[30000 rows x 2 columns]"
      ]
     },
     "execution_count": 3,
     "metadata": {},
     "output_type": "execute_result"
    }
   ],
   "source": [
    "data"
   ]
  },
  {
   "cell_type": "code",
   "execution_count": 4,
   "id": "0082ba27",
   "metadata": {},
   "outputs": [
    {
     "data": {
      "text/html": [
       "<div>\n",
       "<style scoped>\n",
       "    .dataframe tbody tr th:only-of-type {\n",
       "        vertical-align: middle;\n",
       "    }\n",
       "\n",
       "    .dataframe tbody tr th {\n",
       "        vertical-align: top;\n",
       "    }\n",
       "\n",
       "    .dataframe thead th {\n",
       "        text-align: right;\n",
       "    }\n",
       "</style>\n",
       "<table border=\"1\" class=\"dataframe\">\n",
       "  <thead>\n",
       "    <tr style=\"text-align: right;\">\n",
       "      <th></th>\n",
       "      <th>tweet</th>\n",
       "      <th>label</th>\n",
       "    </tr>\n",
       "  </thead>\n",
       "  <tbody>\n",
       "    <tr>\n",
       "      <th>0</th>\n",
       "      <td>Coronavirus | Human Coronavirus Types | CDC ht...</td>\n",
       "      <td>neu</td>\n",
       "    </tr>\n",
       "    <tr>\n",
       "      <th>1</th>\n",
       "      <td>@shehryar_taseer That‚Äôs üíØ true , \\nCorona...</td>\n",
       "      <td>neu</td>\n",
       "    </tr>\n",
       "    <tr>\n",
       "      <th>2</th>\n",
       "      <td>TLDR: Not SARS, possibly new coronavirus. Diff...</td>\n",
       "      <td>neg</td>\n",
       "    </tr>\n",
       "    <tr>\n",
       "      <th>3</th>\n",
       "      <td>Disease outbreak news from the WHO: Middle Eas...</td>\n",
       "      <td>neu</td>\n",
       "    </tr>\n",
       "    <tr>\n",
       "      <th>4</th>\n",
       "      <td>China - Media: WSJ says sources tell them myst...</td>\n",
       "      <td>neu</td>\n",
       "    </tr>\n",
       "  </tbody>\n",
       "</table>\n",
       "</div>"
      ],
      "text/plain": [
       "                                               tweet label\n",
       "0  Coronavirus | Human Coronavirus Types | CDC ht...   neu\n",
       "1  @shehryar_taseer That‚Äôs üíØ true , \\nCorona...   neu\n",
       "2  TLDR: Not SARS, possibly new coronavirus. Diff...   neg\n",
       "3  Disease outbreak news from the WHO: Middle Eas...   neu\n",
       "4  China - Media: WSJ says sources tell them myst...   neu"
      ]
     },
     "execution_count": 4,
     "metadata": {},
     "output_type": "execute_result"
    }
   ],
   "source": [
    "data.head()"
   ]
  },
  {
   "cell_type": "code",
   "execution_count": 5,
   "id": "9495d50a",
   "metadata": {},
   "outputs": [
    {
     "data": {
      "text/plain": [
       "(30000, 2)"
      ]
     },
     "execution_count": 5,
     "metadata": {},
     "output_type": "execute_result"
    }
   ],
   "source": [
    "data.shape"
   ]
  },
  {
   "cell_type": "code",
   "execution_count": 6,
   "id": "e2dea32c",
   "metadata": {},
   "outputs": [
    {
     "data": {
      "text/plain": [
       "Index(['tweet', 'label'], dtype='object')"
      ]
     },
     "execution_count": 6,
     "metadata": {},
     "output_type": "execute_result"
    }
   ],
   "source": [
    "data.columns"
   ]
  },
  {
   "cell_type": "code",
   "execution_count": 7,
   "id": "b64cbc0b",
   "metadata": {},
   "outputs": [
    {
     "name": "stdout",
     "output_type": "stream",
     "text": [
      "<class 'pandas.core.frame.DataFrame'>\n",
      "RangeIndex: 30000 entries, 0 to 29999\n",
      "Data columns (total 2 columns):\n",
      " #   Column  Non-Null Count  Dtype \n",
      "---  ------  --------------  ----- \n",
      " 0   tweet   30000 non-null  object\n",
      " 1   label   30000 non-null  object\n",
      "dtypes: object(2)\n",
      "memory usage: 468.9+ KB\n"
     ]
    }
   ],
   "source": [
    "data.info()"
   ]
  },
  {
   "cell_type": "code",
   "execution_count": 8,
   "id": "238d57ac",
   "metadata": {},
   "outputs": [
    {
     "data": {
      "text/html": [
       "<div>\n",
       "<style scoped>\n",
       "    .dataframe tbody tr th:only-of-type {\n",
       "        vertical-align: middle;\n",
       "    }\n",
       "\n",
       "    .dataframe tbody tr th {\n",
       "        vertical-align: top;\n",
       "    }\n",
       "\n",
       "    .dataframe thead th {\n",
       "        text-align: right;\n",
       "    }\n",
       "</style>\n",
       "<table border=\"1\" class=\"dataframe\">\n",
       "  <thead>\n",
       "    <tr style=\"text-align: right;\">\n",
       "      <th></th>\n",
       "      <th>tweet</th>\n",
       "      <th>label</th>\n",
       "    </tr>\n",
       "  </thead>\n",
       "  <tbody>\n",
       "    <tr>\n",
       "      <th>count</th>\n",
       "      <td>30000</td>\n",
       "      <td>30000</td>\n",
       "    </tr>\n",
       "    <tr>\n",
       "      <th>unique</th>\n",
       "      <td>29987</td>\n",
       "      <td>3</td>\n",
       "    </tr>\n",
       "    <tr>\n",
       "      <th>top</th>\n",
       "      <td>COVID-19</td>\n",
       "      <td>neu</td>\n",
       "    </tr>\n",
       "    <tr>\n",
       "      <th>freq</th>\n",
       "      <td>3</td>\n",
       "      <td>22949</td>\n",
       "    </tr>\n",
       "  </tbody>\n",
       "</table>\n",
       "</div>"
      ],
      "text/plain": [
       "           tweet  label\n",
       "count      30000  30000\n",
       "unique     29987      3\n",
       "top     COVID-19    neu\n",
       "freq           3  22949"
      ]
     },
     "execution_count": 8,
     "metadata": {},
     "output_type": "execute_result"
    }
   ],
   "source": [
    "data.describe()"
   ]
  },
  {
   "cell_type": "code",
   "execution_count": 9,
   "id": "21d9b6f3",
   "metadata": {},
   "outputs": [
    {
     "data": {
      "text/plain": [
       "neu    22949\n",
       "neg     5083\n",
       "pos     1968\n",
       "Name: label, dtype: int64"
      ]
     },
     "execution_count": 9,
     "metadata": {},
     "output_type": "execute_result"
    }
   ],
   "source": [
    "data.label.value_counts()"
   ]
  },
  {
   "cell_type": "code",
   "execution_count": 10,
   "id": "2f476d40",
   "metadata": {},
   "outputs": [
    {
     "data": {
      "text/plain": [
       "tweet    0\n",
       "label    0\n",
       "dtype: int64"
      ]
     },
     "execution_count": 10,
     "metadata": {},
     "output_type": "execute_result"
    }
   ],
   "source": [
    "#checking for null values\n",
    "\n",
    "data.isnull().sum()"
   ]
  },
  {
   "cell_type": "code",
   "execution_count": 11,
   "id": "2bb27210",
   "metadata": {},
   "outputs": [
    {
     "data": {
      "text/html": [
       "<div>\n",
       "<style scoped>\n",
       "    .dataframe tbody tr th:only-of-type {\n",
       "        vertical-align: middle;\n",
       "    }\n",
       "\n",
       "    .dataframe tbody tr th {\n",
       "        vertical-align: top;\n",
       "    }\n",
       "\n",
       "    .dataframe thead th {\n",
       "        text-align: right;\n",
       "    }\n",
       "</style>\n",
       "<table border=\"1\" class=\"dataframe\">\n",
       "  <thead>\n",
       "    <tr style=\"text-align: right;\">\n",
       "      <th></th>\n",
       "      <th>tweet</th>\n",
       "      <th>label</th>\n",
       "    </tr>\n",
       "  </thead>\n",
       "  <tbody>\n",
       "    <tr>\n",
       "      <th>70</th>\n",
       "      <td>Novel #Wuhan #coronavirus virus cases leap up....</td>\n",
       "      <td>pos</td>\n",
       "    </tr>\n",
       "    <tr>\n",
       "      <th>104</th>\n",
       "      <td>As #coronavirus spreads to more cities in #Chi...</td>\n",
       "      <td>pos</td>\n",
       "    </tr>\n",
       "    <tr>\n",
       "      <th>111</th>\n",
       "      <td>Experts fear latest strain of virus may spread...</td>\n",
       "      <td>pos</td>\n",
       "    </tr>\n",
       "    <tr>\n",
       "      <th>113</th>\n",
       "      <td>Human-to-Human Transmission Confirmed in China...</td>\n",
       "      <td>pos</td>\n",
       "    </tr>\n",
       "    <tr>\n",
       "      <th>128</th>\n",
       "      <td>The coronavirus has struck 222 people in Asia,...</td>\n",
       "      <td>pos</td>\n",
       "    </tr>\n",
       "    <tr>\n",
       "      <th>...</th>\n",
       "      <td>...</td>\n",
       "      <td>...</td>\n",
       "    </tr>\n",
       "    <tr>\n",
       "      <th>29953</th>\n",
       "      <td>#COVID-19 | Death toll in #China crosses 2,590...</td>\n",
       "      <td>pos</td>\n",
       "    </tr>\n",
       "    <tr>\n",
       "      <th>29957</th>\n",
       "      <td>@KimDamore @BNODesk He‚Äôs on top of the Coron...</td>\n",
       "      <td>pos</td>\n",
       "    </tr>\n",
       "    <tr>\n",
       "      <th>29971</th>\n",
       "      <td>https://t.co/vUlcLEL0Bm\\nüîùü¶† CoronaVirus ...</td>\n",
       "      <td>pos</td>\n",
       "    </tr>\n",
       "    <tr>\n",
       "      <th>29976</th>\n",
       "      <td>#coronavirus Many junior government staff who ...</td>\n",
       "      <td>pos</td>\n",
       "    </tr>\n",
       "    <tr>\n",
       "      <th>29987</th>\n",
       "      <td>@PreetBharara I‚Äôd rather catch the Coronavir...</td>\n",
       "      <td>pos</td>\n",
       "    </tr>\n",
       "  </tbody>\n",
       "</table>\n",
       "<p>1968 rows × 2 columns</p>\n",
       "</div>"
      ],
      "text/plain": [
       "                                                   tweet label\n",
       "70     Novel #Wuhan #coronavirus virus cases leap up....   pos\n",
       "104    As #coronavirus spreads to more cities in #Chi...   pos\n",
       "111    Experts fear latest strain of virus may spread...   pos\n",
       "113    Human-to-Human Transmission Confirmed in China...   pos\n",
       "128    The coronavirus has struck 222 people in Asia,...   pos\n",
       "...                                                  ...   ...\n",
       "29953  #COVID-19 | Death toll in #China crosses 2,590...   pos\n",
       "29957  @KimDamore @BNODesk He‚Äôs on top of the Coron...   pos\n",
       "29971  https://t.co/vUlcLEL0Bm\\nüîùü¶† CoronaVirus ...   pos\n",
       "29976  #coronavirus Many junior government staff who ...   pos\n",
       "29987  @PreetBharara I‚Äôd rather catch the Coronavir...   pos\n",
       "\n",
       "[1968 rows x 2 columns]"
      ]
     },
     "execution_count": 11,
     "metadata": {},
     "output_type": "execute_result"
    }
   ],
   "source": [
    "data[data[\"label\"]==\"pos\"]"
   ]
  },
  {
   "cell_type": "code",
   "execution_count": 12,
   "id": "5b5104ba",
   "metadata": {},
   "outputs": [
    {
     "data": {
      "text/html": [
       "<div>\n",
       "<style scoped>\n",
       "    .dataframe tbody tr th:only-of-type {\n",
       "        vertical-align: middle;\n",
       "    }\n",
       "\n",
       "    .dataframe tbody tr th {\n",
       "        vertical-align: top;\n",
       "    }\n",
       "\n",
       "    .dataframe thead th {\n",
       "        text-align: right;\n",
       "    }\n",
       "</style>\n",
       "<table border=\"1\" class=\"dataframe\">\n",
       "  <thead>\n",
       "    <tr style=\"text-align: right;\">\n",
       "      <th></th>\n",
       "      <th>tweet</th>\n",
       "      <th>label</th>\n",
       "    </tr>\n",
       "  </thead>\n",
       "  <tbody>\n",
       "    <tr>\n",
       "      <th>2</th>\n",
       "      <td>TLDR: Not SARS, possibly new coronavirus. Diff...</td>\n",
       "      <td>neg</td>\n",
       "    </tr>\n",
       "    <tr>\n",
       "      <th>8</th>\n",
       "      <td>@tezuma75 Why #CCP keep on saying unknown caus...</td>\n",
       "      <td>neg</td>\n",
       "    </tr>\n",
       "    <tr>\n",
       "      <th>11</th>\n",
       "      <td>I always feel weird hoping for another coronav...</td>\n",
       "      <td>neg</td>\n",
       "    </tr>\n",
       "    <tr>\n",
       "      <th>16</th>\n",
       "      <td>@KariDebbink @Vineet321 The Frieman Scary Scal...</td>\n",
       "      <td>neg</td>\n",
       "    </tr>\n",
       "    <tr>\n",
       "      <th>18</th>\n",
       "      <td>Crap, a quick blast search suggests the Wuhan ...</td>\n",
       "      <td>neg</td>\n",
       "    </tr>\n",
       "    <tr>\n",
       "      <th>...</th>\n",
       "      <td>...</td>\n",
       "      <td>...</td>\n",
       "    </tr>\n",
       "    <tr>\n",
       "      <th>29970</th>\n",
       "      <td>One can only hope that an upside of this #coro...</td>\n",
       "      <td>neg</td>\n",
       "    </tr>\n",
       "    <tr>\n",
       "      <th>29975</th>\n",
       "      <td>@cnni A deadly outbreak of the coronavirus eme...</td>\n",
       "      <td>neg</td>\n",
       "    </tr>\n",
       "    <tr>\n",
       "      <th>29982</th>\n",
       "      <td>Samsung Shuts Down Factory in South Korea Due ...</td>\n",
       "      <td>neg</td>\n",
       "    </tr>\n",
       "    <tr>\n",
       "      <th>29991</th>\n",
       "      <td>@heidijo1 @brianschatz Come Novemeber, if he‚Ä...</td>\n",
       "      <td>neg</td>\n",
       "    </tr>\n",
       "    <tr>\n",
       "      <th>29992</th>\n",
       "      <td>Feel bad for both South Korea and Italy with t...</td>\n",
       "      <td>neg</td>\n",
       "    </tr>\n",
       "  </tbody>\n",
       "</table>\n",
       "<p>5083 rows × 2 columns</p>\n",
       "</div>"
      ],
      "text/plain": [
       "                                                   tweet label\n",
       "2      TLDR: Not SARS, possibly new coronavirus. Diff...   neg\n",
       "8      @tezuma75 Why #CCP keep on saying unknown caus...   neg\n",
       "11     I always feel weird hoping for another coronav...   neg\n",
       "16     @KariDebbink @Vineet321 The Frieman Scary Scal...   neg\n",
       "18     Crap, a quick blast search suggests the Wuhan ...   neg\n",
       "...                                                  ...   ...\n",
       "29970  One can only hope that an upside of this #coro...   neg\n",
       "29975  @cnni A deadly outbreak of the coronavirus eme...   neg\n",
       "29982  Samsung Shuts Down Factory in South Korea Due ...   neg\n",
       "29991  @heidijo1 @brianschatz Come Novemeber, if he‚Ä...   neg\n",
       "29992  Feel bad for both South Korea and Italy with t...   neg\n",
       "\n",
       "[5083 rows x 2 columns]"
      ]
     },
     "execution_count": 12,
     "metadata": {},
     "output_type": "execute_result"
    }
   ],
   "source": [
    "data[data[\"label\"]==\"neg\"]"
   ]
  },
  {
   "cell_type": "code",
   "execution_count": 13,
   "id": "1f9284c3",
   "metadata": {},
   "outputs": [
    {
     "data": {
      "text/html": [
       "<div>\n",
       "<style scoped>\n",
       "    .dataframe tbody tr th:only-of-type {\n",
       "        vertical-align: middle;\n",
       "    }\n",
       "\n",
       "    .dataframe tbody tr th {\n",
       "        vertical-align: top;\n",
       "    }\n",
       "\n",
       "    .dataframe thead th {\n",
       "        text-align: right;\n",
       "    }\n",
       "</style>\n",
       "<table border=\"1\" class=\"dataframe\">\n",
       "  <thead>\n",
       "    <tr style=\"text-align: right;\">\n",
       "      <th></th>\n",
       "      <th>tweet</th>\n",
       "      <th>label</th>\n",
       "    </tr>\n",
       "  </thead>\n",
       "  <tbody>\n",
       "    <tr>\n",
       "      <th>0</th>\n",
       "      <td>Coronavirus | Human Coronavirus Types | CDC ht...</td>\n",
       "      <td>neu</td>\n",
       "    </tr>\n",
       "    <tr>\n",
       "      <th>1</th>\n",
       "      <td>@shehryar_taseer That‚Äôs üíØ true , \\nCorona...</td>\n",
       "      <td>neu</td>\n",
       "    </tr>\n",
       "    <tr>\n",
       "      <th>3</th>\n",
       "      <td>Disease outbreak news from the WHO: Middle Eas...</td>\n",
       "      <td>neu</td>\n",
       "    </tr>\n",
       "    <tr>\n",
       "      <th>4</th>\n",
       "      <td>China - Media: WSJ says sources tell them myst...</td>\n",
       "      <td>neu</td>\n",
       "    </tr>\n",
       "    <tr>\n",
       "      <th>5</th>\n",
       "      <td>The mystery new virus causing #China pneumonia...</td>\n",
       "      <td>neu</td>\n",
       "    </tr>\n",
       "    <tr>\n",
       "      <th>...</th>\n",
       "      <td>...</td>\n",
       "      <td>...</td>\n",
       "    </tr>\n",
       "    <tr>\n",
       "      <th>29995</th>\n",
       "      <td>CDC: Re-test confirms Westerdam cruise ship pa...</td>\n",
       "      <td>neu</td>\n",
       "    </tr>\n",
       "    <tr>\n",
       "      <th>29996</th>\n",
       "      <td>Two doctors die of coronavirus within 24 hours...</td>\n",
       "      <td>neu</td>\n",
       "    </tr>\n",
       "    <tr>\n",
       "      <th>29997</th>\n",
       "      <td>BEIJING - The lockdown of Guo Jing's neighbour...</td>\n",
       "      <td>neu</td>\n",
       "    </tr>\n",
       "    <tr>\n",
       "      <th>29998</th>\n",
       "      <td>#CoronavirusOutbreak in #Balochistan !!\\n#CPEC...</td>\n",
       "      <td>neu</td>\n",
       "    </tr>\n",
       "    <tr>\n",
       "      <th>29999</th>\n",
       "      <td>The Australian dollar has hit a fresh decade l...</td>\n",
       "      <td>neu</td>\n",
       "    </tr>\n",
       "  </tbody>\n",
       "</table>\n",
       "<p>22949 rows × 2 columns</p>\n",
       "</div>"
      ],
      "text/plain": [
       "                                                   tweet label\n",
       "0      Coronavirus | Human Coronavirus Types | CDC ht...   neu\n",
       "1      @shehryar_taseer That‚Äôs üíØ true , \\nCorona...   neu\n",
       "3      Disease outbreak news from the WHO: Middle Eas...   neu\n",
       "4      China - Media: WSJ says sources tell them myst...   neu\n",
       "5      The mystery new virus causing #China pneumonia...   neu\n",
       "...                                                  ...   ...\n",
       "29995  CDC: Re-test confirms Westerdam cruise ship pa...   neu\n",
       "29996  Two doctors die of coronavirus within 24 hours...   neu\n",
       "29997  BEIJING - The lockdown of Guo Jing's neighbour...   neu\n",
       "29998  #CoronavirusOutbreak in #Balochistan !!\\n#CPEC...   neu\n",
       "29999  The Australian dollar has hit a fresh decade l...   neu\n",
       "\n",
       "[22949 rows x 2 columns]"
      ]
     },
     "execution_count": 13,
     "metadata": {},
     "output_type": "execute_result"
    }
   ],
   "source": [
    "data[data[\"label\"]==\"neu\"]"
   ]
  },
  {
   "cell_type": "code",
   "execution_count": 14,
   "id": "31ceb089",
   "metadata": {},
   "outputs": [
    {
     "data": {
      "text/plain": [
       "\"Novel #Wuhan #coronavirus virus cases leap up.\\nLatest blog, which doesn't include 1 case from Shenzhen and 2 cases‚Ä¶ https://t.co/lJks3nQK10\""
      ]
     },
     "execution_count": 14,
     "metadata": {},
     "output_type": "execute_result"
    }
   ],
   "source": [
    "data[data[\"label\"]==\"pos\"].loc[70,\"tweet\"]"
   ]
  },
  {
   "cell_type": "code",
   "execution_count": 15,
   "id": "ae8d23f8",
   "metadata": {},
   "outputs": [
    {
     "data": {
      "text/plain": [
       "'@KariDebbink @Vineet321 The Frieman Scary Scale makes its debut. Wuhan Coronavirus scores 3 out of 10 N95 masks.'"
      ]
     },
     "execution_count": 15,
     "metadata": {},
     "output_type": "execute_result"
    }
   ],
   "source": [
    "data[data[\"label\"]==\"neg\"].loc[16,\"tweet\"]"
   ]
  },
  {
   "cell_type": "code",
   "execution_count": 16,
   "id": "c3e2839c",
   "metadata": {},
   "outputs": [
    {
     "data": {
      "text/plain": [
       "'@TONGSONG1984 #CCP #China also export #WuhanPneumonia #coronavirus \\nhttps://t.co/BQSbfg2Ek3'"
      ]
     },
     "execution_count": 16,
     "metadata": {},
     "output_type": "execute_result"
    }
   ],
   "source": [
    "data[data[\"label\"]==\"neu\"].loc[57,\"tweet\"]"
   ]
  },
  {
   "cell_type": "markdown",
   "id": "2fd50307",
   "metadata": {},
   "source": [
    "From the above tweets we can understand that the texts are not plain. We have to clean this text"
   ]
  },
  {
   "cell_type": "code",
   "execution_count": 17,
   "id": "215f2485",
   "metadata": {},
   "outputs": [
    {
     "data": {
      "image/png": "[encoded data removed]",
      "text/plain": [
       "<Figure size 720x720 with 2 Axes>"
      ]
     },
     "metadata": {
      "needs_background": "light"
     },
     "output_type": "display_data"
    }
   ],
   "source": [
    "#Heat Map \n",
    "\n",
    "\n",
    "plt.figure(figsize=(10, 10))\n",
    "sns.heatmap(data.isnull(), cbar=True, cmap =\"Blues\",yticklabels=False)\n",
    "plt.xlabel(\"Column_Name\", size=14, weight=\"bold\")\n",
    "plt.title(\"Missing values\",fontweight=\"bold\",size=17)\n",
    "plt.show()"
   ]
  },
  {
   "cell_type": "markdown",
   "id": "e97aebbb",
   "metadata": {},
   "source": [
    "There is no missing values in the dataset"
   ]
  },
  {
   "cell_type": "code",
   "execution_count": 18,
   "id": "d95daebe",
   "metadata": {},
   "outputs": [],
   "source": [
    "#Data Preprocessing\n",
    "\n",
    "import re "
   ]
  },
  {
   "cell_type": "code",
   "execution_count": 19,
   "id": "1fc431c2",
   "metadata": {},
   "outputs": [],
   "source": [
    "#Write function for removing @user\n",
    "def remove_pattern(input_txt, pattern):\n",
    "    r = re.findall(pattern, input_txt)\n",
    "    for i in r:\n",
    "        input_txt = re.sub(i,\"\",input_txt)\n",
    "    return input_txt"
   ]
  },
  {
   "cell_type": "code",
   "execution_count": 20,
   "id": "ac96d5c0",
   "metadata": {},
   "outputs": [],
   "source": [
    "#To create new column with removed @user\n",
    "data[\"tweet\"] = np.vectorize(remove_pattern)(data[\"tweet\"], '@[\\w]*')"
   ]
  },
  {
   "cell_type": "code",
   "execution_count": 21,
   "id": "0325d15a",
   "metadata": {},
   "outputs": [],
   "source": [
    "#To remove HTTP and urls from tweets\n",
    "data['tweet'] = data['tweet'].apply(lambda x: re.split('https:\\/\\/.*', str(x))[0])"
   ]
  },
  {
   "cell_type": "code",
   "execution_count": 22,
   "id": "c4be624c",
   "metadata": {},
   "outputs": [
    {
     "name": "stderr",
     "output_type": "stream",
     "text": [
      "<ipython-input-22-a833f7fb861e>:2: FutureWarning: The default value of regex will change from True to False in a future version.\n",
      "  data['tweet'] = data['tweet'].str.replace('[^a-zA-Z#]+',' ')\n"
     ]
    }
   ],
   "source": [
    "#To remove special characters, numbers, punctuations\n",
    "data['tweet'] = data['tweet'].str.replace('[^a-zA-Z#]+',' ')"
   ]
  },
  {
   "cell_type": "code",
   "execution_count": 23,
   "id": "1df06bbe",
   "metadata": {},
   "outputs": [],
   "source": [
    "data[\"tweet\"] = data[\"tweet\"].str.replace('#',' ')"
   ]
  },
  {
   "cell_type": "code",
   "execution_count": 24,
   "id": "df6c8a4e",
   "metadata": {},
   "outputs": [],
   "source": [
    "#Converting to lower case\n",
    "data[\"tweet\"]=data[\"tweet\"].str.lower() "
   ]
  },
  {
   "cell_type": "code",
   "execution_count": 25,
   "id": "fa6dc86a",
   "metadata": {},
   "outputs": [
    {
     "data": {
      "text/html": [
       "<div>\n",
       "<style scoped>\n",
       "    .dataframe tbody tr th:only-of-type {\n",
       "        vertical-align: middle;\n",
       "    }\n",
       "\n",
       "    .dataframe tbody tr th {\n",
       "        vertical-align: top;\n",
       "    }\n",
       "\n",
       "    .dataframe thead th {\n",
       "        text-align: right;\n",
       "    }\n",
       "</style>\n",
       "<table border=\"1\" class=\"dataframe\">\n",
       "  <thead>\n",
       "    <tr style=\"text-align: right;\">\n",
       "      <th></th>\n",
       "      <th>tweet</th>\n",
       "      <th>label</th>\n",
       "    </tr>\n",
       "  </thead>\n",
       "  <tbody>\n",
       "    <tr>\n",
       "      <th>0</th>\n",
       "      <td>coronavirus human coronavirus types cdc</td>\n",
       "      <td>neu</td>\n",
       "    </tr>\n",
       "    <tr>\n",
       "      <th>1</th>\n",
       "      <td>that s true corona virus swine flue bird flu ...</td>\n",
       "      <td>neu</td>\n",
       "    </tr>\n",
       "    <tr>\n",
       "      <th>2</th>\n",
       "      <td>tldr not sars possibly new coronavirus difficu...</td>\n",
       "      <td>neg</td>\n",
       "    </tr>\n",
       "    <tr>\n",
       "      <th>3</th>\n",
       "      <td>disease outbreak news from the who middle east...</td>\n",
       "      <td>neu</td>\n",
       "    </tr>\n",
       "    <tr>\n",
       "      <th>4</th>\n",
       "      <td>china media wsj says sources tell them mystery...</td>\n",
       "      <td>neu</td>\n",
       "    </tr>\n",
       "  </tbody>\n",
       "</table>\n",
       "</div>"
      ],
      "text/plain": [
       "                                               tweet label\n",
       "0           coronavirus human coronavirus types cdc    neu\n",
       "1   that s true corona virus swine flue bird flu ...   neu\n",
       "2  tldr not sars possibly new coronavirus difficu...   neg\n",
       "3  disease outbreak news from the who middle east...   neu\n",
       "4  china media wsj says sources tell them mystery...   neu"
      ]
     },
     "execution_count": 25,
     "metadata": {},
     "output_type": "execute_result"
    }
   ],
   "source": [
    "data.head()"
   ]
  },
  {
   "cell_type": "code",
   "execution_count": 26,
   "id": "f513d3aa",
   "metadata": {},
   "outputs": [
    {
     "data": {
      "text/html": [
       "<div>\n",
       "<style scoped>\n",
       "    .dataframe tbody tr th:only-of-type {\n",
       "        vertical-align: middle;\n",
       "    }\n",
       "\n",
       "    .dataframe tbody tr th {\n",
       "        vertical-align: top;\n",
       "    }\n",
       "\n",
       "    .dataframe thead th {\n",
       "        text-align: right;\n",
       "    }\n",
       "</style>\n",
       "<table border=\"1\" class=\"dataframe\">\n",
       "  <thead>\n",
       "    <tr style=\"text-align: right;\">\n",
       "      <th></th>\n",
       "      <th>tweet</th>\n",
       "      <th>label</th>\n",
       "    </tr>\n",
       "  </thead>\n",
       "  <tbody>\n",
       "    <tr>\n",
       "      <th>0</th>\n",
       "      <td>coronavirus human coronavirus types cdc</td>\n",
       "      <td>neu</td>\n",
       "    </tr>\n",
       "    <tr>\n",
       "      <th>1</th>\n",
       "      <td>that s true corona virus swine flue bird flu ...</td>\n",
       "      <td>neu</td>\n",
       "    </tr>\n",
       "    <tr>\n",
       "      <th>2</th>\n",
       "      <td>tldr not sars possibly new coronavirus difficu...</td>\n",
       "      <td>neg</td>\n",
       "    </tr>\n",
       "    <tr>\n",
       "      <th>3</th>\n",
       "      <td>disease outbreak news from the who middle east...</td>\n",
       "      <td>neu</td>\n",
       "    </tr>\n",
       "    <tr>\n",
       "      <th>4</th>\n",
       "      <td>china media wsj says sources tell them mystery...</td>\n",
       "      <td>neu</td>\n",
       "    </tr>\n",
       "  </tbody>\n",
       "</table>\n",
       "</div>"
      ],
      "text/plain": [
       "                                               tweet label\n",
       "0           coronavirus human coronavirus types cdc    neu\n",
       "1   that s true corona virus swine flue bird flu ...   neu\n",
       "2  tldr not sars possibly new coronavirus difficu...   neg\n",
       "3  disease outbreak news from the who middle east...   neu\n",
       "4  china media wsj says sources tell them mystery...   neu"
      ]
     },
     "execution_count": 26,
     "metadata": {},
     "output_type": "execute_result"
    }
   ],
   "source": [
    "data.head()"
   ]
  },
  {
   "cell_type": "code",
   "execution_count": 27,
   "id": "0487dd24",
   "metadata": {},
   "outputs": [],
   "source": [
    "#To remove short words\n",
    "data[\"tweet\"] = data[\"tweet\"].apply(lambda x: ' '.join([w for w in x.split() if len(w) > 2]))"
   ]
  },
  {
   "cell_type": "code",
   "execution_count": 28,
   "id": "349184a9",
   "metadata": {},
   "outputs": [
    {
     "data": {
      "text/html": [
       "<div>\n",
       "<style scoped>\n",
       "    .dataframe tbody tr th:only-of-type {\n",
       "        vertical-align: middle;\n",
       "    }\n",
       "\n",
       "    .dataframe tbody tr th {\n",
       "        vertical-align: top;\n",
       "    }\n",
       "\n",
       "    .dataframe thead th {\n",
       "        text-align: right;\n",
       "    }\n",
       "</style>\n",
       "<table border=\"1\" class=\"dataframe\">\n",
       "  <thead>\n",
       "    <tr style=\"text-align: right;\">\n",
       "      <th></th>\n",
       "      <th>tweet</th>\n",
       "      <th>label</th>\n",
       "    </tr>\n",
       "  </thead>\n",
       "  <tbody>\n",
       "    <tr>\n",
       "      <th>0</th>\n",
       "      <td>coronavirus human coronavirus types cdc</td>\n",
       "      <td>neu</td>\n",
       "    </tr>\n",
       "    <tr>\n",
       "      <th>1</th>\n",
       "      <td>that true corona virus swine flue bird flu dec...</td>\n",
       "      <td>neu</td>\n",
       "    </tr>\n",
       "    <tr>\n",
       "      <th>2</th>\n",
       "      <td>tldr not sars possibly new coronavirus difficu...</td>\n",
       "      <td>neg</td>\n",
       "    </tr>\n",
       "    <tr>\n",
       "      <th>3</th>\n",
       "      <td>disease outbreak news from the who middle east...</td>\n",
       "      <td>neu</td>\n",
       "    </tr>\n",
       "    <tr>\n",
       "      <th>4</th>\n",
       "      <td>china media wsj says sources tell them mystery...</td>\n",
       "      <td>neu</td>\n",
       "    </tr>\n",
       "  </tbody>\n",
       "</table>\n",
       "</div>"
      ],
      "text/plain": [
       "                                               tweet label\n",
       "0            coronavirus human coronavirus types cdc   neu\n",
       "1  that true corona virus swine flue bird flu dec...   neu\n",
       "2  tldr not sars possibly new coronavirus difficu...   neg\n",
       "3  disease outbreak news from the who middle east...   neu\n",
       "4  china media wsj says sources tell them mystery...   neu"
      ]
     },
     "execution_count": 28,
     "metadata": {},
     "output_type": "execute_result"
    }
   ],
   "source": [
    "data.head()"
   ]
  },
  {
   "cell_type": "code",
   "execution_count": 29,
   "id": "c9ac29ae",
   "metadata": {},
   "outputs": [
    {
     "data": {
      "text/plain": [
       "'ccp china also export wuhanpneumonia coronavirus'"
      ]
     },
     "execution_count": 29,
     "metadata": {},
     "output_type": "execute_result"
    }
   ],
   "source": [
    "data[data[\"label\"]==\"neu\"].loc[57,\"tweet\"]"
   ]
  },
  {
   "cell_type": "code",
   "execution_count": 30,
   "id": "b09f3e20",
   "metadata": {},
   "outputs": [],
   "source": [
    "#To create new variable tokenized tweet \n",
    "token_tweet = data[\"tweet\"].apply(lambda x: x.split())"
   ]
  },
  {
   "cell_type": "code",
   "execution_count": 31,
   "id": "2891afac",
   "metadata": {},
   "outputs": [
    {
     "name": "stderr",
     "output_type": "stream",
     "text": [
      "[nltk_data] Downloading package omw-1.4 to\n",
      "[nltk_data]     C:\\Users\\reema\\AppData\\Roaming\\nltk_data...\n",
      "[nltk_data]   Package omw-1.4 is already up-to-date!\n"
     ]
    },
    {
     "data": {
      "text/plain": [
       "True"
      ]
     },
     "execution_count": 31,
     "metadata": {},
     "output_type": "execute_result"
    }
   ],
   "source": [
    "import nltk\n",
    "from nltk.corpus import wordnet as wn\n",
    "nltk.download(\"omw-1.4\")"
   ]
  },
  {
   "cell_type": "code",
   "execution_count": 32,
   "id": "a1bfd585",
   "metadata": {},
   "outputs": [],
   "source": [
    "from nltk.stem import WordNetLemmatizer\n",
    "  \n",
    "lemmatizer = WordNetLemmatizer()\n",
    "  \n",
    "token_tweet = token_tweet.apply(lambda x: [lemmatizer.lemmatize(i) for i in x])"
   ]
  },
  {
   "cell_type": "code",
   "execution_count": 33,
   "id": "8e532215",
   "metadata": {},
   "outputs": [],
   "source": [
    "#To lemmatize\n",
    "\n",
    "from nltk.stem import WordNetLemmatizer\n",
    "lem = WordNetLemmatizer()\n",
    "\n",
    "token_tweet = token_tweet.apply(lambda x: [lem.lemmatize(i) for i in x])"
   ]
  },
  {
   "cell_type": "code",
   "execution_count": 34,
   "id": "006e7df8",
   "metadata": {},
   "outputs": [
    {
     "data": {
      "text/plain": [
       "0             [coronavirus, human, coronavirus, type, cdc]\n",
       "1        [that, true, corona, virus, swine, flue, bird,...\n",
       "2        [tldr, not, sars, possibly, new, coronavirus, ...\n",
       "3        [disease, outbreak, news, from, the, who, midd...\n",
       "4        [china, medium, wsj, say, source, tell, them, ...\n",
       "                               ...                        \n",
       "29995    [cdc, test, confirms, westerdam, cruise, ship,...\n",
       "29996    [two, doctor, die, coronavirus, within, hour, ...\n",
       "29997    [beijing, the, lockdown, guo, jing, neighbourh...\n",
       "29998    [coronavirusoutbreak, balochistan, cpec, route...\n",
       "29999    [the, australian, dollar, ha, hit, fresh, deca...\n",
       "Name: tweet, Length: 30000, dtype: object"
      ]
     },
     "execution_count": 34,
     "metadata": {},
     "output_type": "execute_result"
    }
   ],
   "source": [
    "token_tweet"
   ]
  },
  {
   "cell_type": "code",
   "execution_count": 35,
   "id": "4be8143d",
   "metadata": {},
   "outputs": [],
   "source": [
    "#To join tokens into one sentence\n",
    "for i in range(len(token_tweet)):\n",
    "    token_tweet[i] = ' '.join(token_tweet[i])"
   ]
  },
  {
   "cell_type": "code",
   "execution_count": 36,
   "id": "5b42cf56",
   "metadata": {},
   "outputs": [],
   "source": [
    "data[\"Tweet\"]  = token_tweet"
   ]
  },
  {
   "cell_type": "code",
   "execution_count": 37,
   "id": "6acaa1be",
   "metadata": {},
   "outputs": [],
   "source": [
    "data.drop(\"tweet\",axis=1,inplace=True)"
   ]
  },
  {
   "cell_type": "code",
   "execution_count": 38,
   "id": "305fd329",
   "metadata": {},
   "outputs": [
    {
     "data": {
      "text/html": [
       "<div>\n",
       "<style scoped>\n",
       "    .dataframe tbody tr th:only-of-type {\n",
       "        vertical-align: middle;\n",
       "    }\n",
       "\n",
       "    .dataframe tbody tr th {\n",
       "        vertical-align: top;\n",
       "    }\n",
       "\n",
       "    .dataframe thead th {\n",
       "        text-align: right;\n",
       "    }\n",
       "</style>\n",
       "<table border=\"1\" class=\"dataframe\">\n",
       "  <thead>\n",
       "    <tr style=\"text-align: right;\">\n",
       "      <th></th>\n",
       "      <th>label</th>\n",
       "      <th>Tweet</th>\n",
       "    </tr>\n",
       "  </thead>\n",
       "  <tbody>\n",
       "    <tr>\n",
       "      <th>0</th>\n",
       "      <td>neu</td>\n",
       "      <td>coronavirus human coronavirus type cdc</td>\n",
       "    </tr>\n",
       "    <tr>\n",
       "      <th>1</th>\n",
       "      <td>neu</td>\n",
       "      <td>that true corona virus swine flue bird flu dec...</td>\n",
       "    </tr>\n",
       "    <tr>\n",
       "      <th>2</th>\n",
       "      <td>neg</td>\n",
       "      <td>tldr not sars possibly new coronavirus difficu...</td>\n",
       "    </tr>\n",
       "    <tr>\n",
       "      <th>3</th>\n",
       "      <td>neu</td>\n",
       "      <td>disease outbreak news from the who middle east...</td>\n",
       "    </tr>\n",
       "    <tr>\n",
       "      <th>4</th>\n",
       "      <td>neu</td>\n",
       "      <td>china medium wsj say source tell them mystery ...</td>\n",
       "    </tr>\n",
       "  </tbody>\n",
       "</table>\n",
       "</div>"
      ],
      "text/plain": [
       "  label                                              Tweet\n",
       "0   neu             coronavirus human coronavirus type cdc\n",
       "1   neu  that true corona virus swine flue bird flu dec...\n",
       "2   neg  tldr not sars possibly new coronavirus difficu...\n",
       "3   neu  disease outbreak news from the who middle east...\n",
       "4   neu  china medium wsj say source tell them mystery ..."
      ]
     },
     "execution_count": 38,
     "metadata": {},
     "output_type": "execute_result"
    }
   ],
   "source": [
    "data.head()"
   ]
  },
  {
   "cell_type": "code",
   "execution_count": 39,
   "id": "c0442ad7",
   "metadata": {},
   "outputs": [
    {
     "data": {
      "image/png": "[encoded data removed]",
      "text/plain": [
       "<Figure size 432x288 with 1 Axes>"
      ]
     },
     "metadata": {
      "needs_background": "light"
     },
     "output_type": "display_data"
    }
   ],
   "source": [
    "sns.countplot(x=\"label\", data=data)\n",
    "plt.show()"
   ]
  },
  {
   "cell_type": "code",
   "execution_count": 40,
   "id": "8996ffce",
   "metadata": {},
   "outputs": [],
   "source": [
    "X = data[\"Tweet\"]\n",
    "y = data[\"label\"]"
   ]
  },
  {
   "cell_type": "code",
   "execution_count": 41,
   "id": "2b9ff084",
   "metadata": {},
   "outputs": [],
   "source": [
    "#Splitting the dataset into training and test set\n",
    "from sklearn.model_selection import train_test_split\n",
    "X_train, X_test, y_train, y_test = train_test_split(X, y,test_size = 0.3, random_state = 0)"
   ]
  },
  {
   "cell_type": "code",
   "execution_count": 42,
   "id": "75b33023",
   "metadata": {},
   "outputs": [],
   "source": [
    "from sklearn.feature_extraction.text import TfidfVectorizer\n",
    "\n",
    "tfidf_vect = TfidfVectorizer(max_features = 5000)\n",
    "tfidf_vect.fit(data[\"Tweet\"])\n",
    "X_train_tfidf = tfidf_vect.transform(X_train)\n",
    "X_test_tfidf = tfidf_vect.transform(X_test)"
   ]
  },
  {
   "cell_type": "code",
   "execution_count": 43,
   "id": "275909e1",
   "metadata": {},
   "outputs": [
    {
     "name": "stdout",
     "output_type": "stream",
     "text": [
      "  (0, 4459)\t0.15254756684997578\n",
      "  (0, 2440)\t0.7546121735513383\n",
      "  (0, 1690)\t0.4554074829048486\n",
      "  (0, 928)\t0.09013751255900064\n",
      "  (0, 83)\t0.43791433034353094\n",
      "  (1, 4911)\t0.1980191324455161\n",
      "  (1, 4548)\t0.41326740282605645\n",
      "  (1, 4545)\t0.32297162147904135\n",
      "  (1, 3402)\t0.3530702152613797\n",
      "  (1, 3137)\t0.30359245556876774\n",
      "  (1, 2850)\t0.26165809757608954\n",
      "  (1, 1764)\t0.34338063230624294\n",
      "  (1, 928)\t0.050309964033426836\n",
      "  (1, 703)\t0.11829844515957644\n",
      "  (1, 698)\t0.3072131428437948\n",
      "  (1, 672)\t0.3495945134031423\n",
      "  (1, 150)\t0.2221796130773604\n",
      "  (2, 4511)\t0.27342593022174905\n",
      "  (2, 4457)\t0.20860393106910083\n",
      "  (2, 3485)\t0.4187086827024766\n",
      "  (2, 2662)\t0.35751609101416015\n",
      "  (2, 2546)\t0.5364040806874096\n",
      "  (2, 1761)\t0.17735369676277984\n",
      "  (2, 1718)\t0.2437851874794707\n",
      "  (2, 1526)\t0.4161360343675392\n",
      "  :\t:\n",
      "  (20996, 2295)\t0.26012059175713426\n",
      "  (20996, 1531)\t0.34981430154583104\n",
      "  (20996, 915)\t0.165243657104631\n",
      "  (20996, 374)\t0.3389522141777374\n",
      "  (20996, 158)\t0.15249072342143608\n",
      "  (20997, 4873)\t0.3931445245472843\n",
      "  (20997, 4832)\t0.5341655115270073\n",
      "  (20997, 1117)\t0.7412373146119505\n",
      "  (20997, 928)\t0.10330456205049596\n",
      "  (20998, 4524)\t0.3463567499490725\n",
      "  (20998, 4301)\t0.3075915521869926\n",
      "  (20998, 4246)\t0.31307377427926497\n",
      "  (20998, 4152)\t0.2897668133029417\n",
      "  (20998, 3397)\t0.3141875556207442\n",
      "  (20998, 2119)\t0.3042362019683118\n",
      "  (20998, 1740)\t0.416724650380267\n",
      "  (20998, 1594)\t0.416724650380267\n",
      "  (20998, 928)\t0.05967989046766286\n",
      "  (20998, 80)\t0.2475689804162085\n",
      "  (20999, 4459)\t0.15348828681086868\n",
      "  (20999, 3281)\t0.31880049874654787\n",
      "  (20999, 3127)\t0.3929007476694823\n",
      "  (20999, 1836)\t0.5790228546823687\n",
      "  (20999, 928)\t0.09069336644143508\n",
      "  (20999, 808)\t0.6139575207867224\n"
     ]
    }
   ],
   "source": [
    "print(X_train_tfidf)"
   ]
  },
  {
   "cell_type": "code",
   "execution_count": 44,
   "id": "f13a9134",
   "metadata": {},
   "outputs": [
    {
     "name": "stdout",
     "output_type": "stream",
     "text": [
      "  (0, 4831)\t0.37061332307614175\n",
      "  (0, 4750)\t0.14181812510381755\n",
      "  (0, 4459)\t0.09110166422214645\n",
      "  (0, 3169)\t0.2564222806560311\n",
      "  (0, 2610)\t0.2184148848345195\n",
      "  (0, 1800)\t0.3153434495026351\n",
      "  (0, 1672)\t0.3096471603284962\n",
      "  (0, 1497)\t0.3777753966298944\n",
      "  (0, 1372)\t0.40626115702918625\n",
      "  (0, 1250)\t0.24871537531923515\n",
      "  (0, 975)\t0.2407689787290732\n",
      "  (0, 915)\t0.15095705838320325\n",
      "  (0, 710)\t0.18602249573423496\n",
      "  (0, 120)\t0.20117094349262749\n",
      "  (1, 4592)\t0.2994602415224618\n",
      "  (1, 4459)\t0.09200968959838861\n",
      "  (1, 4241)\t0.4330926897515855\n",
      "  (1, 3264)\t0.22496936125741834\n",
      "  (1, 3073)\t0.2167628783701846\n",
      "  (1, 2990)\t0.23112615306842052\n",
      "  (1, 2305)\t0.3019029655307928\n",
      "  (1, 2293)\t0.23049628319665888\n",
      "  (1, 1175)\t0.4465920561832552\n",
      "  (1, 928)\t0.054366809795667485\n",
      "  (1, 843)\t0.3599773754280977\n",
      "  :\t:\n",
      "  (8997, 928)\t0.05422533859786681\n",
      "  (8997, 349)\t0.43196571279987267\n",
      "  (8998, 4978)\t0.19769671945964268\n",
      "  (8998, 4206)\t0.39889854661926355\n",
      "  (8998, 4146)\t0.35755845449599977\n",
      "  (8998, 4129)\t0.32696381603446467\n",
      "  (8998, 2610)\t0.2350843175235876\n",
      "  (8998, 1342)\t0.3954483886550476\n",
      "  (8998, 928)\t0.0579386032249156\n",
      "  (8998, 617)\t0.32368346283678456\n",
      "  (8998, 477)\t0.36078586173246513\n",
      "  (8998, 362)\t0.3422049136459604\n",
      "  (8999, 4684)\t0.25319727721145513\n",
      "  (8999, 4459)\t0.10858853635069789\n",
      "  (8999, 3711)\t0.3119116181220747\n",
      "  (8999, 3368)\t0.3696186931927076\n",
      "  (8999, 3073)\t0.25582048803906543\n",
      "  (8999, 3016)\t0.20937169090202443\n",
      "  (8999, 2416)\t0.3729424756460633\n",
      "  (8999, 2295)\t0.2832442018619604\n",
      "  (8999, 1816)\t0.19207245852575563\n",
      "  (8999, 928)\t0.06416294118083525\n",
      "  (8999, 607)\t0.18601150826187238\n",
      "  (8999, 387)\t0.39954504832215587\n",
      "  (8999, 371)\t0.3554625134075842\n"
     ]
    }
   ],
   "source": [
    "print(X_test_tfidf)"
   ]
  },
  {
   "cell_type": "code",
   "execution_count": 45,
   "id": "ceb97297",
   "metadata": {},
   "outputs": [
    {
     "name": "stdout",
     "output_type": "stream",
     "text": [
      "{'coronavirus': 928, 'human': 2167, 'type': 4637, 'cdc': 634, 'that': 4457, 'true': 4608, 'corona': 915, 'virus': 4750, 'swine': 4382, 'bird': 408, 'flu': 1743, 'december': 1099, 'when': 4847, 'whole': 4859, 'busy': 541, 'not': 3067, 'sars': 3835, 'possibly': 3398, 'new': 3016, 'difficult': 1213, 'confirm': 850, 'because': 355, 'patient': 3264, 'identified': 2197, 'later': 2549, 'infection': 2295, 'disease': 1250, 'outbreak': 3176, 'news': 3024, 'from': 1816, 'the': 4459, 'who': 4857, 'middle': 2836, 'east': 1389, 'respiratory': 3731, 'syndrome': 4391, 'mers': 2817, 'cov': 982, 'united': 4667, 'arab': 218, 'china': 703, 'medium': 2802, 'wsj': 4938, 'say': 3843, 'source': 4151, 'tell': 4428, 'them': 4463, 'mystery': 2963, 'pneumonia': 3368, 'something': 4129, 'ha': 1988, 'been': 361, 'causing': 625, 'same': 3824, 'family': 1634, 'and': 158, 'virologist': 4746, 'weigh': 4826, 'novel': 3073, 'chinese': 710, 'authority': 290, 'have': 2029, 'made': 2703, 'preliminary': 3434, 'why': 4861, 'ccp': 631, 'keep': 2467, 'saying': 3844, 'unknown': 4671, 'cause': 623, 'obviously': 3099, 'related': 3674, 'let': 2593, 'report': 3710, 'mysterious': 2962, 'illness': 2214, 'may': 2782, 'identifies': 2198, 'strain': 4278, 'always': 141, 'feel': 1672, 'weird': 4830, 'hoping': 2135, 'for': 1761, 'another': 174, 'our': 3169, 'research': 3721, 'traced': 4555, 'cnet': 777, 'wuhan': 4943, 'caused': 624, 'bbc': 346, 'health': 2048, 'advisory': 68, 'about': 10, 'ask': 252, 'with': 4891, 'severe': 3953, 'scientist': 3864, 'unusual': 4680, 'scary': 3854, 'scale': 3846, 'make': 2721, 'it': 2394, 'debut': 1096, 'score': 3867, 'out': 3171, 'mask': 2769, 'genome': 1873, 'sequence': 3937, 'associated': 263, 'cluster': 774, 'crap': 996, 'quick': 3572, 'blast': 423, 'search': 3883, 'suggests': 4326, 'look': 2665, 'like': 2610, 'bat': 338, 'lab': 2522, 'finding': 1707, 'death': 1092, 'cbc': 629, 'first': 1718, 'jan': 2415, 'all': 120, 'interim': 2342, 'guidance': 1981, 'technical': 4421, 'document': 1290, 'will': 4873, 'updated': 4685, 'needed': 3001, 'there': 4470, 'call': 553, 'transparency': 4575, 'data': 1072, 'sharing': 3972, 'concerning': 839, 'wuhanpneumonia': 4952, 'release': 3679, 'genetic': 1869, 'now': 3076, 'deadly': 1086, 'baby': 307, 'born': 455, 'pic': 3317, 'isn': 2382, 'currently': 1044, 'spreading': 4204, 'wpro': 4928, 'ncov': 2990, 'allow': 125, 'country': 975, 'develop': 1184, 'thailand': 4453, 'confirms': 854, 'traveler': 4582, 'hospitalized': 2144, 'form': 1776, 'according': 27, 'official': 3111, 'good': 1923, 'hasn': 2025, 'spread': 4202, 'seafood': 3880, 'market': 2763, 'major': 2718, 'transport': 4577, 'hub': 2162, 'closed': 761, 'brace': 471, 'yourself': 4983, 'america': 147, 'this': 4480, 'nasty': 2979, 'amp': 155, 'killer': 2485, 'japan': 2417, 'second': 3890, 'reported': 3711, 'likely': 2613, 'more': 2918, 'case': 607, 'fear': 1657, 'caught': 622, 'dy': 1375, 'confirmed': 853, 'three': 4493, 'airport': 105, 'screen': 3874, 'passenger': 3254, 'issue': 2391, 'warning': 4791, 'after': 80, 'wuhansars': 4953, 'viral': 4744, 'symptom': 4390, 'entry': 1470, 'screening': 3876, 'airline': 102, 'amid': 150, 'lax': 2561, 'other': 3166, 'raising': 3590, 'question': 3569, 'infected': 2293, 'found': 1784, 'city': 732, 'since': 4046, 'wtf': 4939, 'sound': 4146, 'than': 4454, 'many': 2750, 'initially': 2312, 'thought': 4484, 'through': 4495, 'contact': 876, 'where': 4848, 'world': 4911, 'stand': 4224, 'emerging': 1437, 'some': 4125, 'estimate': 1503, 'put': 3551, 'number': 3084, 'people': 3281, 'closely': 762, 'check': 686, 'least': 2577, 'suspected': 4367, 'shenzhen': 3980, 'shanghai': 3967, 'hundred': 2175, 'also': 138, 'export': 1590, 'grossly': 1964, 'study': 4303, 'cnn': 778, 'already': 136, 'any': 185, 'idea': 2196, 'what': 4844, 'cost': 961, 'newly': 3021, 'developed': 1185, 'test': 4446, 'alert': 112, 'korea': 2513, 'seems': 3907, 'pretty': 3454, 'bad': 312, 'are': 222, 'worried': 4916, 'could': 970, 'mutate': 2955, 'into': 2349, 'even': 1522, 'potent': 3405, 'modelovirus': 2894, 'surge': 4348, 'jump': 2451, 'again': 82, 'leap': 2573, 'latest': 2550, 'blog': 430, 'which': 4851, 'doesn': 1297, 'include': 2257, 'factbox': 1613, 'post': 3399, 'know': 2504, 'published': 3535, 'trending': 4595, 'tourist': 4547, 'coming': 806, 'nepal': 3009, 'taking': 4401, 'epidemic': 1477, 'very': 4729, 'beijing': 371, 'break': 477, 'silence': 4034, 'but': 542, 'only': 3130, 'deny': 1149, 'rumour': 3800, 'transmission': 4572, 'imminent': 2225, 'head': 2039, 'government': 1939, 'expert': 1578, 'team': 4418, 'state': 4238, 'york': 4977, 'time': 4511, 'zero': 4988, 'hedge': 2061, 'detected': 1178, 'well': 4832, 'said': 3817, 'zhong': 4993, 'infectious': 2296, 'globalhealth': 1902, 'had': 1991, 'last': 2545, 'year': 4967, 'drinking': 1342, 'bottle': 460, 'south': 4152, 'you': 4978, 'think': 4477, 'reach': 3611, 'stance': 4223, 'your': 4981, 'hearing': 2053, 'might': 2840, 'next': 3032, 'plague': 3336, 'still': 4263, 'animal': 166, 'barrier': 331, 'pand': 3224, 'transmitted': 4574, 'national': 2981, 'hold': 2112, 'emergency': 1435, 'meeting': 2804, 'asia': 249, 'global': 1900, 'hysteria': 2186, 'should': 4004, 'their': 4462, 'joke': 2442, 'old': 3118, 'mean': 2789, 'friday': 1809, 'night': 3041, 'wrap': 4929, 'tonight': 4529, 'touch': 4541, 'daily': 1059, 'watch': 4801, 'dog': 1299, 'meat': 2795, 'trade': 4559, 'definitely': 1124, 'covering': 987, 'being': 372, 'severity': 3955, 'over': 3189, 'extends': 1598, 'across': 32, 'planet': 3343, 'person': 3295, 'can': 566, 'between': 387, 'known': 2507, 'contagious': 878, 'freaking': 1799, 'really': 3627, 'dangerous': 1066, 'influenza': 2301, 'kill': 2483, 'anyways': 191, 'border': 453, 'cant': 577, 'enter': 1462, 'making': 2724, 'sick': 4022, 'abc': 4, 'how': 2157, 'treatment': 4592, 'prevent': 3455, 'pregnancy': 3431, 'getting': 1883, 'scared': 3850, 'medic': 2797, 'hazmat': 2036, 'suit': 4328, 'air': 98, 'plane': 3342, 'medical': 2798, 'worker': 4907, 'doe': 1296, 'far': 1640, 'low': 2683, 'mortality': 2923, 'rate': 3601, 'science': 3862, 'aaa': 0, 'struck': 4296, 'most': 2926, 'ahead': 93, 'period': 3289, 'group': 1967, 'ffs': 1684, 'rather': 3602, 'going': 1916, 'change': 668, 'fee': 1670, 'want': 4781, 'leave': 2578, 'earlier': 1380, 'due': 1361, 'wa': 4770, 'here': 2078, 'need': 3000, 'video': 4736, 'explained': 1580, 'ray': 3607, 'won': 4899, 'ton': 4528, 'soup': 4149, 'banned': 326, 'read': 3617, 'several': 3952, 'article': 242, 'don': 1307, 'exactly': 1539, 'breaking': 480, 'man': 2733, 'tested': 4447, 'returning': 3751, 'cousin': 981, 'began': 365, 'music': 2952, 'tech': 4420, 'boston': 457, 'doctor': 1289, 'warns': 4792, 'everyone': 1530, 'organization': 3157, 'rise': 3771, 'expected': 1569, 'worse': 4920, 'xenophobia': 4957, 'rampant': 3594, 'every': 1527, 'just': 2456, 'slice': 4074, 'lime': 2616, 'citizen': 731, 'advised': 64, 'wear': 4813, 'particularly': 3249, 'before': 363, 'killed': 2484, 'third': 4479, 'fourth': 1787, 'prepares': 3441, 'meet': 2803, 'monkey': 2910, 'take': 4399, 'life': 2606, 'asks': 255, 'mount': 2932, 'claim': 735, 'nation': 2980, 'start': 4232, 'concern': 837, 'prompt': 3499, 'sfo': 3957, 'top': 4533, 'twitter': 4635, 'wild': 4870, 'origin': 3159, 'nah': 2966, 'taste': 4411, 'better': 386, 'forex': 1773, 'today': 4519, 'optimistic': 3148, 'trump': 4611, 'davos': 1076, 'child': 699, 'positive': 3395, 'cebu': 637, 'javier': 2419, 'hern': 2079, 'ndez': 2994, 'austin': 284, 'via': 4731, 'nyt': 3091, 'australia': 285, 'flight': 1734, 'resident': 3724, 'leaving': 2579, 'yikes': 4975, 'cny': 779, 'doh': 1300, 'admitted': 56, 'hospital': 2143, 'continues': 890, 'dead': 1082, 'update': 4684, 'posted': 3400, 'weekend': 4823, 'they': 4473, 'trip': 4603, 'real': 3621, 'carry': 602, 'give': 1894, 'scientific': 3863, 'nature': 2986, 'cure': 1038, 'infect': 2292, 'tuesday': 4621, 'warned': 4790, 'cover': 984, 'anyone': 188, 'face': 1604, 'none': 3057, 'james': 2413, 'explain': 1579, 'whether': 4849, 'january': 2416, 'pathogen': 3263, 'fami': 1633, 'high': 2086, 'risk': 3774, 'including': 2259, 'capital': 583, 'sixth': 4061, 'victim': 4733, 'holiday': 2116, 'travel': 4580, 'heightens': 2063, 'almost': 130, 'occupied': 3100, 'herald': 2075, 'sun': 4331, 'reached': 3612, 'mostly': 2927, 'college': 797, 'coverup': 988, 'kissed': 2494, 'hahaha': 1993, 'unless': 4672, 'public': 3532, 'help': 2068, 'fancy': 1637, 'talking': 4403, 'cat': 613, 'dont': 1316, 'one': 3127, 'tho': 4481, 'then': 4466, 'ive': 2403, 'landed': 2536, 'soil': 4115, 'quickly': 3574, 'marketwatch': 2766, 'announces': 170, 'way': 4806, 'fast': 1644, 'felt': 1676, 'everything': 1531, 'meaning': 2790, 'hell': 2066, 'pack': 3213, 'drink': 1341, 'thing': 4476, 'washington': 4797, 'catch': 617, 'discovered': 1240, 'get': 1882, 'folk': 1748, 'seeing': 3902, 'knowing': 2505, 'never': 3015, 'friend': 1810, 'returned': 3750, 'believe': 374, 'declare': 1104, 'immediately': 2222, 'sorry': 4140, 'kinda': 2489, 'dow': 1325, 'fall': 1626, 'point': 3372, 'big': 394, 'decline': 1108, 'boeing': 443, 'republic': 3715, 'patented': 3261, 'arriving': 240, 'chicago': 696, 'screened': 3875, 'american': 148, 'bro': 503, 'threatening': 4491, 'further': 1838, 'bring': 495, 'netflix': 3012, 'farm': 1641, 'hang': 2008, 'goat': 1912, 'while': 4852, 'else': 1428, 'bout': 465, 'situation': 4059, 'summary': 4329, 'usa': 4693, 'possible': 3397, 'confirmation': 851, 'yet': 4973, 'reportedly': 3712, 'shut': 4015, 'foreign': 1769, 'arrived': 238, 'seattle': 3888, 'int': 2332, 'chance': 666, 'buy': 544, 'stock': 4265, 'jim': 2431, 'cramer': 995, 'expand': 1562, 'welcome': 4831, 'begun': 368, 'please': 3356, 'practice': 3414, 'personal': 3296, 'social': 4109, 'hygiene': 2183, 'model': 2889, 'iran': 2370, 'doomsday': 1318, 'looming': 2669, 'guy': 1986, 'california': 552, 'sickened': 4023, 'six': 4060, 'die': 1208, 'prime': 3465, 'minister': 2860, 'scott': 3869, 'morrison': 2922, 'evolving': 1537, 'fuck': 1820, 'clinton': 756, 'mom': 2899, 'ago': 89, 'told': 4524, 'diagnosed': 1194, 'week': 4822, 'avoid': 296, 'multiple': 2948, 'australian': 286, 'mad': 2702, 'money': 2904, 'uncertainty': 4650, 'ceo': 653, 'wife': 4866, 'asked': 253, 'trying': 4616, 'sickness': 4024, 'boy': 469, 'contract': 893, 'semi': 3919, 'staff': 4217, 'temperature': 4430, 'begin': 366, 'jamaica': 2412, 'treated': 4590, 'press': 3450, 'become': 356, 'million': 2850, 'remember': 3692, 'light': 2608, 'recent': 3635, 'note': 3068, 'bitch': 414, 'stay': 4246, 'away': 302, 'heard': 2052, 'got': 1931, 'racist': 3582, 'scene': 3856, 'learning': 2576, 'driving': 1347, 'uber': 4639, 'come': 804, 'arrives': 239, 'russia': 3807, 'india': 2273, 'others': 3167, 'boost': 452, 'live': 2637, 'nine': 3046, 'horror': 2141, 'globe': 1906, 'dying': 1376, 'story': 4276, 'show': 4009, 'connected': 860, 'international': 2344, 'antidote': 180, 'apparently': 202, 'por': 3388, 'del': 1127, 'sir': 4054, 'came': 558, 'assume': 265, 'impact': 2230, 'montreal': 2912, 'following': 1752, 'snohomish': 4103, 'county': 976, 'confused': 856, 'talk': 4402, 'company': 822, 'macau': 2700, 'hong': 2127, 'kong': 2511, 'economic': 1399, 'name': 2972, 'these': 4472, 'hangover': 2009, 'word': 4904, 'drunk': 1356, 'off': 3105, 'party': 3251, 'nailed': 2969, 'shame': 3964, 'province': 3526, 'care': 589, 'vigilant': 4739, 'special': 4167, 'region': 3665, 'coordination': 905, 'center': 648, 'move': 2937, 'quarantine': 3561, 'traveling': 4583, 'must': 2954, 'fail': 1618, 'asshole': 260, 'table': 4394, 'information': 2305, 'map': 2751, 'etc': 1506, 'examined': 1541, 'wont': 4902, 'russian': 3808, 'iranian': 2371, 'north': 3063, 'korean': 2514, 'english': 1457, 'raymond': 3608, 'item': 2399, 'broadcast': 504, 'lady': 2530, 'toll': 4525, 'spectator': 4172, 'index': 2272, 'cathay': 619, 'cabin': 550, 'crew': 1009, 'mainland': 2713, 'difference': 1211, 'heading': 2042, 'ground': 1965, 'existence': 1558, 'prepare': 3438, 'during': 1369, 'lunar': 2691, 'running': 3802, 'page': 3217, 'spy': 4209, 'double': 1322, 'mutation': 2958, 'reading': 3619, 'mind': 2853, 'corporation': 956, 'worry': 4918, 'created': 1000, 'vaccine': 4707, 'patent': 3260, 'lucky': 2690, 'happens': 2013, 'long': 2662, 'end': 1446, 'healthcare': 2049, 'economist': 1401, 'land': 2535, 'whatever': 4845, 'seem': 3905, 'grave': 1952, 'traveled': 4581, 'superspreader': 4336, 'having': 2031, 'brain': 473, 'surgery': 4349, 'until': 4678, 'loom': 2668, 'hope': 2133, 'contracted': 894, 'killing': 2486, 'lead': 2565, 'serious': 3943, 'correction': 958, 'pandemic': 3226, 'hit': 2101, 'increase': 2262, 'around': 232, 'hate': 2027, 'jinping': 2432, 'month': 2911, 'gotten': 1933, 'round': 3791, 'substance': 4312, 'close': 760, 'fish': 1720, 'climb': 752, 'key': 2475, 'grow': 1968, 'destination': 1170, 'checking': 688, 'goodbye': 1924, 'actually': 41, 'gonna': 1922, 'image': 2216, 'wwiii': 4956, 'climate': 750, 'changed': 669, 'monitor': 2907, 'precaution': 3424, 'npr': 3079, 'trust': 4612, 'totally': 4539, 'under': 4653, 'control': 896, 'commerce': 810, 'player': 3352, 'ease': 1385, 'price': 3463, 'disinfectant': 1255, 'linked': 2625, 'cancel': 569, 'blow': 434, 'yesterday': 4972, 'likelihood': 2612, 'finland': 1712, 'monitoring': 2909, 'heathrow': 2058, 'create': 999, 'separate': 3935, 'arrival': 236, 'area': 223, 'precautionary': 3425, 'measure': 2794, 'great': 1953, 'shape': 3969, 'plan': 3341, 'egypt': 1416, 'highly': 2090, 'stop': 4271, 'entering': 1464, 'olympic': 3120, 'qualifier': 3559, 'review': 3760, 'paris': 3242, 'back': 308, 'she': 3976, 'cooking': 902, 'secretary': 3893, 'however': 2158, 'sell': 3914, 'protect': 3509, 'pose': 3393, 'leadership': 2567, 'reuters': 3754, 'avoiding': 297, 'object': 3094, 'important': 2243, 'ever': 1526, 'ramp': 3592, 'day': 1079, 'couple': 977, 'impeachment': 2235, 'jeff': 2423, 'wednesday': 4820, 'briefing': 491, 'contain': 879, 'deadass': 1083, 'abt': 15, 'scaring': 3853, 'wash': 4795, 'hand': 2004, 'kid': 2481, 'longer': 2663, 'sparking': 4163, 'dear': 1091, 'given': 1895, 'lee': 2583, 'canada': 567, 'threat': 4488, 'turkey': 4625, 'particular': 3248, 'room': 3786, 'dax': 1078, 'slows': 4082, 'struggling': 4299, 'bernie': 382, 'harry': 2021, 'return': 3749, 'dealing': 1089, 'chill': 700, 'sharply': 3974, 'mid': 2834, 'tackle': 4395, 'impeachmenttrial': 2236, 'describe': 1161, 'delete': 1132, 'previous': 3460, 'tweet': 4631, 'thread': 4487, 'stating': 4241, 'were': 4836, 'picked': 3319, 'ghana': 1884, 'careful': 591, 'shit': 3989, 'would': 4925, 'kenya': 2470, 'step': 4254, 'surveillance': 4357, 'acting': 34, 'brings': 497, 'hear': 2051, 'effort': 1414, 'beginning': 367, 'depression': 1156, 'added': 45, 'hubei': 2163, 'total': 4538, 'overseas': 3197, 'force': 1763, 'bringing': 496, 'chin': 702, 'conducted': 844, 'atlanta': 272, 'employer': 1443, 'holy': 2118, 'thats': 4458, 'le': 2563, 'wait': 4771, 'anything': 189, 'watching': 4803, 'ourselves': 3170, 'puzzle': 3553, 'piece': 3323, 'together': 4521, 'smell': 4090, 'advise': 63, 'against': 83, 'chinavirus': 707, 'suspect': 4366, 'simply': 4041, 'proactive': 3475, 'panic': 3229, 'two': 4636, 'tip': 4515, 'technology': 4422, 'aint': 97, 'play': 3350, 'inc': 2254, 'smh': 4091, 'developing': 1187, 'regulator': 3671, 'combat': 801, 'henry': 2073, 'provincial': 3527, 'officer': 3110, 'join': 2438, 'clock': 758, 'weaker': 4808, 'share': 3970, 'link': 2624, 'morning': 2920, 'established': 1501, 'idk': 2202, 'youre': 4982, 'interested': 2340, 'informed': 2307, 'rapidly': 3598, 'food': 1754, 'poisoning': 3374, 'lot': 2678, 'order': 3150, 'spreader': 4203, 'too': 4530, 'maybe': 2783, 'system': 4392, 'five': 1723, 'affected': 73, 'afp': 75, 'probably': 3478, 'named': 2973, 'calling': 555, 'fire': 1715, 'gun': 1985, 'girl': 1892, 'choose': 717, 'fighter': 1691, 'eve': 1521, 'few': 1682, 'treat': 4589, 'conference': 845, 'alarm': 109, 'prepared': 3439, 'sparked': 4162, 'crisis': 1012, 'opening': 3139, 'aliexpress': 118, 'package': 3214, 'belt': 378, 'fresh': 1807, 'free': 1800, 'chilling': 701, 'reveals': 3758, 'bug': 520, 'turn': 4626, 'ghost': 1886, 'gold': 1917, 'yep': 4970, 'isolated': 2385, 'someone': 4128, 'proper': 3502, 'work': 4905, 'tomorrow': 4527, 'overwhelmed': 3203, 'earthquake': 1384, 'warn': 4789, 'mutating': 2957, 'see': 3901, 'contaminated': 884, 'thanks': 4456, 'much': 2945, 'rising': 3773, 'extraordinary': 1600, 'response': 3735, 'matter': 2780, 'black': 418, 'white': 4856, 'communist': 820, 'halted': 1999, 'cut': 1048, 'transportation': 4578, 'despite': 1169, 'professor': 3489, 'spanish': 4159, 'full': 1828, 'shuts': 4017, 'indian': 2274, 'student': 4301, 'anxious': 184, 'virulent': 4749, 'committee': 815, 'gaining': 1845, 'lake': 2533, 'nvax': 3088, 'potential': 3406, 'gap': 1852, 'shutting': 4019, 'down': 1326, 'train': 4567, 'critic': 1014, 'living': 2641, 'nightmare': 3042, 'station': 4242, 'bus': 535, 'okay': 3116, 'similar': 4038, 'clearly': 747, 'wrong': 4936, 'effect': 1410, 'did': 1205, 'demand': 1141, 'beer': 362, 'examiner': 1542, 'lock': 2654, 'halt': 1998, 'feared': 1658, 'widespread': 4865, 'officially': 3112, 'fatality': 1648, 'drastic': 1336, 'originated': 3163, 'scare': 3849, 'slowly': 4081, 'surely': 4346, 'limit': 2617, 'population': 3387, 'billion': 398, 'nice': 3036, 'scaremongering': 3851, 'restricting': 3743, 'started': 4233, 'wildlife': 4872, 'taken': 4400, 'underway': 4660, 'right': 3768, 'working': 4908, 'himself': 2094, 'became': 354, 'mexico': 2827, 'ill': 2211, 'visiting': 4755, 'newsgrit': 3027, 'quarantined': 3562, 'damn': 1062, 'movie': 2939, 'starting': 4234, 'decide': 1100, 'thursday': 4502, 'postpones': 3404, 'decision': 1103, 'declaring': 1107, 'pork': 3389, 'pig': 3324, 'wth': 4940, 'stunt': 4306, 'go': 1909, 'creating': 1002, 'promote': 3498, 'task': 4410, 'info': 2302, 'originating': 3164, 'general': 1868, 'greenland': 1958, 'otherwise': 3168, 'suspends': 4371, 'spre': 4201, 'rapid': 3597, 'seek': 3903, 'suspension': 4372, 'heart': 2054, 'ready': 3620, 'meanwhile': 2792, 'cnbc': 776, 'escalate': 1493, 'safely': 3815, 'handle': 2005, 'phone': 3313, 'connection': 862, 'little': 2635, 'went': 4835, 'fly': 1744, 'berlin': 381, 'german': 1880, 'common': 817, 'term': 4437, 'seven': 3950, 'stronger': 4294, 'action': 35, 'downplaying': 1329, 'reporting': 3714, 'huh': 2166, 'inf': 2288, 'pakistan': 3221, 'ali': 115, 'walk': 4775, 'box': 468, 'mouth': 2936, 'stick': 4261, 'transit': 4570, 'copy': 910, 'zerohedge': 4989, 'bar': 328, 'gotta': 1932, 'ingat': 2308, 'daw': 1077, 'ngl': 3033, 'suspend': 4368, 'contained': 880, 'detect': 1177, 'moscow': 2925, 'worrisome': 4917, 'pollution': 3381, 'taiwan': 4398, 'diseas': 1249, 'sealed': 3882, 'isolates': 2386, 'entered': 1463, 'each': 1379, 'private': 3472, 'message': 2820, 'use': 4695, 'robot': 3780, 'certain': 655, 'place': 3334, 'itself': 2400, 'ppl': 3413, 'pick': 3318, 'carefully': 592, 'fearmongering': 1661, 'called': 554, 'yall': 4963, 'clean': 742, 'street': 4285, 'interview': 2347, 'guangzhou': 1975, 'southern': 4155, 'lol': 2659, 'brexit': 487, 'open': 3137, 'wet': 4842, 'photo': 3314, 'shop': 3996, 'hot': 2147, 'spring': 4206, 'add': 44, 'tourism': 4546, 'tour': 4545, 'budget': 518, 'doubling': 1323, 'wouldn': 4926, 'surprise': 4354, 'current': 1043, 'shot': 4003, 'best': 384, 'guess': 1979, 'send': 3923, 'location': 2653, 'imposes': 2249, 'terrified': 4439, 'truth': 4613, 'podcast': 3371, 'episode': 1481, 'wanna': 4780, 'house': 2154, 'shutdown': 4016, 'try': 4614, 'follow': 1749, 'happened': 2011, 'pop': 3384, 'song': 4134, 'gave': 1859, 'snake': 4097, 'legit': 2589, 'headache': 2040, 'past': 3256, 'happy': 2014, 'using': 4700, 'issued': 2392, 'november': 3075, 'event': 1524, 'aid': 94, 'horrific': 2140, 'disturbing': 1277, 'footage': 1757, 'emerges': 1436, 'visual': 4757, 'guide': 1982, 'sure': 4345, 'purposely': 3547, 'able': 8, 'crowded': 1021, 'front': 1817, 'line': 2620, 'recorded': 3644, 'find': 1706, 'woke': 4897, 'kag': 2460, 'election': 1422, 'completely': 831, 'asian': 250, 'department': 1150, 'investigates': 2358, 'consumption': 874, 'controlled': 897, 'surprised': 4355, 'eating': 1395, 'filed': 1695, 'usual': 4701, 'adam': 43, 'ser': 3940, 'interesting': 2341, 'development': 1188, 'showing': 4011, 'lmao': 2644, 'understand': 4658, 'antibiotic': 179, 'leading': 2568, 'original': 3160, 'pas': 3252, 'washyourhands': 4798, 'waiting': 4772, 'queue': 3571, 'outside': 3185, 'airborne': 99, 'yung': 4986, 'putting': 3552, 'lockdown': 2655, 'considered': 866, 'epicenter': 1475, 'outbrea': 3175, 'wearing': 4814, 'purpose': 3546, 'dust': 1370, 'flee': 1731, 'locked': 2656, 'gross': 1963, 'blame': 419, 'restaurant': 3740, 'warming': 4788, 'activated': 36, 'beg': 364, 'inform': 2304, 'follower': 1751, 'researcher': 3722, 'tipping': 4516, 'wuhanchina': 4945, 'beyond': 389, 'steel': 4252, 'car': 586, 'noodle': 3059, 'traveller': 4585, 'nigerian': 3039, 'tribune': 4597, 'drag': 1333, 'anxiety': 183, 'saw': 3842, 'app': 200, 'blamed': 420, 'emerge': 1433, 'star': 4230, 'carrying': 603, 'red': 3651, 'side': 4025, 'grip': 1961, 'investor': 2363, 'observation': 3096, 'custom': 1046, 'mexican': 2826, 'inside': 2320, 'strategy': 4283, 'seen': 3908, 'swan': 4376, 'london': 2661, 'reveal': 3755, 'non': 3056, 'specific': 4170, 'clear': 744, 'peter': 3302, 'oooo': 3134, 'offer': 3107, 'kit': 2495, 'blown': 437, 'community': 821, 'owned': 3206, 'application': 211, 'sta': 4214, 'lagos': 2531, 'govt': 1941, 'timeline': 4512, 'coronaviru': 927, 'irish': 2374, 'town': 4552, 'her': 2074, 'count': 972, 'statement': 4240, 'released': 3680, 'fight': 1690, 'khabarhub': 2478, 'growing': 1969, 'course': 979, 'pray': 3419, 'jeremy': 2425, 'selling': 3916, 'koala': 2508, 'eat': 1392, 'huanggang': 2160, 'indoor': 2282, 'venue': 4724, 'guangdong': 1974, 'seriously': 3944, 'local': 2650, 'celebrating': 639, 'sold': 4116, 'yes': 4971, 'terrible': 4438, 'brazil': 476, 'expanded': 1563, 'restriction': 3744, 'affect': 72, 'becomes': 357, 'remind': 3693, 'coronavirusoutbreak': 939, 'coronovirus': 952, 'caution': 626, 'cholera': 715, 'bubonic': 516, 'prep': 3436, 'codx': 787, 'diagnostics': 1197, 'design': 1166, 'platform': 3349, 'didn': 1206, 'pre': 3423, 'existing': 1559, 'condition': 843, 'such': 4316, 'beware': 388, 'washing': 4796, 'cannot': 576, 'anger': 162, 'doing': 1301, 'nigeria': 3038, 'huawei': 2161, 'developer': 1186, 'grows': 1971, 'ban': 320, 'woman': 4898, 'hide': 2084, 'france': 1792, 'online': 3129, 'march': 2758, 'late': 2547, 'april': 217, 'uae': 4638, 'distract': 1272, 'duh': 1362, 'retreat': 3748, 'appetite': 209, 'threatens': 4492, 'growth': 1972, 'macao': 2699, 'philippine': 3310, 'appearance': 205, 'accident': 25, 'stuck': 4300, 'breakfast': 479, 'wuhancoronavirus': 4946, 'singapore': 4048, 'film': 1699, 'contagion': 877, 'channel': 671, 'japanese': 2418, 'customer': 1047, 'level': 2598, 'cancellation': 571, 'celebration': 640, 'used': 4696, 'decade': 1098, 'biggest': 396, 'load': 2647, 'nonsense': 3058, 'nh': 3034, 'plagueinc': 3338, 'accelerating': 21, 'nnvc': 3050, 'body': 442, 'texas': 4449, 'sent': 3931, 'dubai': 1358, 'implement': 2238, 'bitcoin': 415, 'plunge': 3363, 'profit': 3490, 'loss': 2676, 'limited': 2619, 'investigating': 2359, 'ministry': 2861, 'dive': 1278, 'fxstreet': 1842, 'within': 4894, 'vietnam': 4737, 'protection': 3512, 'gear': 1864, 'alongside': 133, 'oil': 3115, 'trader': 4560, 'posed': 3394, 'scotland': 3868, 'reporter': 3713, 'four': 1786, 'mentioned': 2816, 'filipino': 1696, 'guardian': 1977, 'build': 521, 'testing': 4448, 'february': 1665, 'unprecedented': 4676, 'worrying': 4919, 'wuhanvirus': 4954, 'epidemiology': 1480, 'healthy': 2050, 'cold': 792, 'save': 3840, 'failed': 1619, 'nurse': 3086, 'saudi': 3839, 'peop': 3279, 'short': 4000, 'btc': 512, 'northern': 3064, 'ireland': 2373, 'wake': 4773, 'threaten': 4489, 'economy': 1402, 'canadian': 568, 'future': 1840, 'poised': 3373, 'gain': 1844, 'session': 3947, 'game': 1848, 'freakin': 1798, 'easily': 1387, 'previously': 3461, 'smartnews': 4087, 'factory': 1615, 'scandal': 3848, 'qanon': 3554, 'decides': 1102, 'rumor': 3799, 'dna': 1283, 'god': 1913, 'bid': 392, 'disrupted': 1266, 'punishment': 3543, 'uighur': 4643, 'muslim': 2953, 'gov': 1935, 'laboratory': 2524, 'done': 1315, 'summer': 4330, 'fell': 1674, 'idiot': 2200, 'decided': 1101, 'kung': 2518, 'publichealth': 3533, 'reminds': 3695, 'drill': 1340, 'giant': 1887, 'forced': 1764, 'postpone': 3402, 'upcoming': 4683, 'safe': 3814, 'ca': 548, 'contamination': 885, 'signal': 4032, 'hongkong': 2128, 'dedicated': 1111, 'lightning': 2609, 'vancouver': 4713, 'toronto': 4536, 'tool': 4532, 'fan': 1636, 'vacation': 4704, 'prevention': 3457, 'centre': 651, 'located': 2652, 'mother': 2929, 'angry': 164, 'shake': 3961, 'parasite': 3239, 'cancelled': 572, 'stopped': 4272, 'shock': 3991, 'collapsing': 794, 'teacher': 4416, 'terror': 4442, 'edge': 1403, 'coast': 782, 'output': 3183, 'birthday': 412, 'delayed': 1129, 'plastic': 3348, 'tube': 4620, 'stuff': 4305, 'bit': 413, 'funny': 1836, 'vaccination': 4706, 'counter': 973, 'cough': 966, 'simulation': 4044, 'spell': 4176, 'sign': 4031, 'seal': 3881, 'written': 4935, 'opinion': 3144, 'drip': 1343, 'racism': 3581, 'evidence': 1533, 'admit': 54, 'somewhat': 4130, 'exercise': 1554, 'increased': 2263, 'widens': 4864, 'simple': 4040, 'conspiracy': 868, 'happening': 2012, 'arabia': 219, 'hiv': 2103, 'run': 3801, 'monitored': 2908, 'fed': 1668, 'alibaba': 116, 'coffee': 788, 'prefer': 3430, 'both': 458, 'provide': 3522, 'colleague': 795, 'fro': 1814, 'mail': 2711, 'scottish': 3870, 'indonesia': 2280, 'forget': 1774, 'housing': 2155, 'droplet': 1351, 'coughing': 968, 'que': 3565, 'concert': 840, 'thank': 4455, 'ima': 2215, 'soon': 4137, 'died': 1209, 'forever': 1772, 'wish': 4889, 'evil': 1534, 'suddenly': 4319, 'disappear': 1231, 'ebola': 1397, 'cont': 875, 'fifth': 1688, 'rushed': 3806, 'his': 2099, 'record': 3643, 'inovio': 2316, 'launch': 2555, 'africa': 77, 'dem': 1140, 'dey': 1191, 'business': 539, 'spotlight': 4195, 'helped': 2069, 'early': 1381, 'owner': 3207, 'bill': 397, 'melinda': 2807, 'gate': 1856, 'french': 1805, 'didnt': 1207, 'fox': 1788, 'bruh': 510, 'documentary': 1291, 'pet': 3301, 'showed': 4010, 'coul': 969, 'dan': 1063, 'although': 140, 'scenario': 3855, 'locking': 2657, 'italy': 2397, 'italian': 2396, 'coronaviruschina': 930, 'wall': 4777, 'wisconsin': 4887, 'cina': 725, 'con': 834, 'aren': 224, 'spraying': 4200, 'investigated': 2357, 'mild': 2845, 'large': 2540, 'playing': 3353, 'compare': 823, 'curious': 1041, 'own': 3205, 'preparing': 3442, 'mon': 2901, 'date': 1073, 'est': 1499, 'literally': 2634, 'dude': 1360, 'jean': 2421, 'paul': 3265, 'locust': 2658, 'mapping': 2753, 'sharp': 3973, 'home': 2119, 'matt': 2779, 'john': 2436, 'malaysia': 2727, 'near': 2995, 'editorial': 1405, 'besides': 383, 'chinapneumonia': 705, 'chinacoronavirus': 704, 'sydney': 4386, 'bushfire': 537, 'smoke': 4094, 'au': 280, 'spook': 4192, 'recommendation': 3641, 'provider': 3524, 'fucking': 1824, 'anti': 178, 'journalist': 2447, 'graphic': 1950, 'entire': 1467, 'wiped': 4883, 'swear': 4377, 'sitting': 4058, 'google': 1926, 'justice': 2457, 'quarantining': 3563, 'illegal': 2212, 'university': 4670, 'culture': 1035, 'eats': 1396, 'midst': 2839, 'sending': 3924, 'rat': 3600, 'laugh': 2552, 'surrounding': 4356, 'hopefully': 2134, 'sanitizers': 3832, 'catching': 618, 'fool': 1755, 'originate': 3162, 'different': 1212, 'voice': 4760, 'mirror': 2866, 'insane': 2318, 'financial': 1705, 'spark': 4161, 'rest': 3738, 'worst': 4923, 'newspaper': 3029, 'random': 3596, 'comment': 808, 'suck': 4317, 'investigation': 2360, 'nsw': 3081, 'engineered': 1454, 'planned': 3344, 'houston': 2156, 'vid': 4735, 'often': 3113, 'raw': 3606, 'wonder': 4900, 'ate': 270, 'recently': 3636, 'stupid': 4307, 'dept': 1157, 'email': 1430, 'revealed': 3756, 'doc': 1285, 'journal': 2446, 'hotel': 2149, 'refuse': 3659, 'originally': 3161, 'claimed': 736, 'wasn': 4799, 'grounded': 1966, 'played': 3351, 'iphone': 2368, 'theory': 4468, 'paper': 3233, 'fascinating': 1642, 'insight': 2322, 'handling': 2006, 'ending': 1448, 'lyme': 2695, 'attempt': 275, 'stem': 4253, 'zombie': 4996, 'apocalypse': 197, 'supporter': 4340, 'frightening': 1813, 'foundation': 1785, 'funded': 1833, 'hat': 2026, 'alien': 117, 'nothing': 3070, 'turning': 4629, 'investigate': 2356, 'congress': 859, 'described': 1162, 'agency': 85, 'preparation': 3437, 'deal': 1087, 'longest': 2664, 'taal': 4393, 'eruption': 1492, 'series': 3941, 'present': 3447, 'slow': 4078, 'mass': 2771, 'marketing': 2764, 'manager': 2737, 'valley': 4710, 'those': 4482, 'detailed': 1175, 'breakdown': 478, 'dia': 1192, 'highest': 2088, 'took': 4531, 'wit': 4890, 'walking': 4776, 'tower': 4551, 'diario': 1200, 'root': 3788, 'season': 3885, 'trial': 4596, 'speaks': 4166, 'extra': 1599, 'nhk': 3035, 'notice': 3071, 'healt': 2047, 'traditional': 4562, 'medicine': 2801, 'eight': 1417, 'fact': 1612, 'campus': 565, 'safety': 3816, 'switch': 4384, 'modelo': 2892, 'los': 2672, 'tokyo': 4523, 'spur': 4207, 'military': 2848, 'personnel': 3299, 'sneeze': 4099, 'finished': 1711, 'largely': 2541, 'faster': 1645, 'yellow': 4968, 'metal': 2823, 'newsvideo': 3031, 'breakingnews': 481, 'youtube': 4984, 'switched': 4385, 'worldwide': 4915, 'risen': 3772, 'commission': 812, 'federal': 1669, 'court': 980, 'secretly': 3895, 'ordering': 3152, 'site': 4057, 'throughout': 4496, 'excuse': 1552, 'towards': 4550, 'building': 522, 'bed': 359, 'nseupdate': 3080, 'crazy': 998, 'kerala': 2473, 'trapped': 4579, 'wuh': 4942, 'tracking': 4558, 'infects': 2298, 'received': 3634, 'carmaker': 596, 'luxury': 2693, 'brand': 474, 'jersey': 2427, 'exposure': 1594, 'cbs': 630, 'personality': 3297, 'race': 3579, 'firm': 1717, 'nasdaq': 2978, 'eye': 1603, 'earnings': 1382, 'gild': 1889, 'omg': 3123, 'tennessee': 4435, 'weak': 4807, 'immune': 2226, 'feeling': 1673, 'tht': 4500, 'estate': 1502, 'revealing': 3757, 'isolation': 2388, 'prey': 3462, 'thousand': 4485, 'evening': 1523, 'unconfirmed': 4652, 'reaching': 3613, 'pls': 3361, 'cautious': 627, 'regardless': 3663, 'calm': 556, 'expands': 1565, 'plus': 3365, 'crash': 997, 'spr': 4197, 'discussion': 1248, 'men': 2812, 'anymore': 187, 'embassy': 1431, 'cheated': 685, 'chine': 709, 'brought': 508, 'dozen': 1332, 'mike': 2842, 'esp': 1496, 'southeast': 4154, 'club': 771, 'lost': 2677, 'cell': 642, 'spike': 4183, 'nobody': 3051, 'blocking': 429, 'road': 3778, 'motor': 2931, 'vehicle': 4720, 'treating': 4591, 'proof': 3500, 'sing': 4047, 'humanity': 2168, 'increasing': 2264, 'value': 4711, 'burning': 534, 'half': 1997, 'supply': 4338, 'ended': 1447, 'flat': 1728, 'disneyland': 1262, 'park': 3243, 'preventing': 3456, 'possibility': 3396, 'product': 3485, 'unnecessary': 4674, 'delay': 1128, 'neo': 3008, 'hitting': 2102, 'shore': 3999, 'determine': 1180, 'readiness': 3618, 'leaf': 2569, 'lying': 2694, 'deserted': 1164, 'sneezed': 4100, 'love': 2679, 'wired': 4885, 'whose': 4860, 'tryin': 4615, 'imposed': 2248, 'suspicion': 4373, 'survived': 4361, 'visit': 4753, 'zealand': 4987, 'accelerate': 19, 'industry': 2286, 'escaped': 1495, 'website': 4818, 'bunch': 529, 'british': 501, 'resort': 3727, 'saturday': 3838, 'lethal': 2594, 'headquarters': 2044, 'tired': 4517, 'self': 3912, 'shared': 3971, 'small': 4084, 'chaos': 672, 'strike': 4292, 'zika': 4994, 'retweetnews': 3753, 'reduce': 3652, 'disney': 1261, 'announced': 168, 'temporary': 4432, 'closure': 765, 'oott': 3135, 'figure': 1693, 'higher': 2087, 'wuhancoronovirus': 4948, 'wuhanflu': 4949, 'overnight': 3195, 'list': 2629, 'suspended': 4369, 'retweet': 3752, 'moh': 2898, 'bloody': 432, 'mounting': 2934, 'central': 649, 'appear': 204, 'probable': 3477, 'governor': 1940, 'protein': 3515, 'compared': 824, 'attention': 279, 'instead': 2328, 'among': 152, 'kingdom': 2492, 'dose': 1320, 'masked': 2770, 'germ': 1879, 'guideline': 1983, 'adviser': 65, 'concerned': 838, 'lack': 2526, 'basic': 334, 'implication': 2240, 'raise': 3588, 'epicentre': 1476, 'suffer': 4320, 'denies': 1146, 'learn': 2574, 'unable': 4648, 'lower': 2684, 'speed': 4174, 'suffering': 4322, 'suspe': 4365, 'trigger': 4600, 'debate': 1093, 'magazine': 2706, 'ang': 159, 'especially': 1497, 'super': 4333, 'volcano': 4762, 'west': 4838, 'roll': 3783, 'favorite': 1653, 'ongoing': 3128, 'organisation': 3155, 'expects': 1571, 'chongqing': 716, 'mcdonalds': 2786, 'amidst': 151, 'petition': 3303, 'rename': 3700, 'coronaviruses': 932, 'stricter': 4291, 'targeted': 4407, 'curb': 1037, 'rebound': 3630, 'aussie': 283, 'bet': 385, 'yen': 4969, 'auspol': 282, 'everybody': 1528, 'fighting': 1692, 'him': 2093, 'yang': 4964, 'flew': 1733, 'packed': 3215, 'rally': 3591, 'predicted': 3427, 'ran': 3595, 'energy': 1450, 'bearish': 349, 'mood': 2913, 'winner': 4879, 'equipped': 1486, 'aware': 300, 'yeah': 4966, 'corp': 954, 'left': 2584, 'floor': 1739, 'lesson': 2592, 'learned': 2575, 'zone': 4997, 'battle': 342, 'jazeera': 2420, 'bio': 402, 'weapon': 4810, 'granted': 1948, 'thr': 4486, 'exclusive': 1551, 'rose': 3789, 'moment': 2900, 'program': 3491, 'stepped': 4256, 'soar': 4106, 'hey': 2081, 'available': 292, 'chart': 678, 'ru': 3797, 'infecting': 2294, 'closing': 764, 'weekly': 4824, 'style': 4309, 'scholar': 3859, 'ontario': 3132, 'alerted': 113, 'solution': 4121, 'sensitive': 3930, 'below': 377, 'set': 3948, 'village': 4741, 'fine': 1708, 'till': 4509, 'complex': 832, 'easier': 1386, 'result': 3745, 'hour': 2153, 'quite': 3577, 'epic': 1474, 'glad': 1897, 'sec': 3889, 'midnight': 2838, 'keeping': 2468, 'steve': 4259, 'freed': 1801, 'commentary': 809, 'helping': 2071, 'equity': 1487, 'block': 426, 'touched': 4542, 'standard': 4225, 'seasonal': 3886, 'everywhere': 1532, 'coronoavirus': 950, 'unbelievable': 4649, 'rush': 3805, 'manufactured': 2747, 'destroy': 1171, 'negative': 3002, 'sky': 4067, 'remain': 3688, 'smallpox': 4085, 'illinois': 2213, 'hav': 2028, 'asking': 254, 'school': 3860, 'act': 33, 'hosted': 2146, 'simulated': 4043, 'outb': 3172, 'deploys': 1154, 'assist': 261, 'shift': 3981, 'approach': 212, 'meme': 2810, 'fun': 1830, 'soldier': 4117, 'telling': 4429, 'duty': 1374, 'regarding': 3662, 'detail': 1174, 'experiencing': 1575, 'responsible': 3737, 'coincidence': 789, 'israel': 2389, 'ugh': 4641, 'pace': 3211, 'built': 523, 'hire': 2098, 'camera': 560, 'address': 49, 'hard': 2015, 'hop': 2132, 'prince': 3466, 'penny': 3276, 'cepi': 654, 'coverage': 985, 'clinical': 755, 'behind': 370, 'looking': 2667, 'partial': 3246, 'mumbai': 2950, 'ward': 4785, 'drop': 1350, 'freaked': 1797, 'flying': 1745, 'estimation': 1505, 'epidemiological': 1478, 'prediction': 3428, 'headline': 2043, 'young': 4979, 'liked': 2611, 'visitor': 4756, 'incubation': 2267, 'parent': 3241, 'depth': 1158, 'respirator': 3730, 'port': 3391, 'service': 3945, 'gon': 1919, 'lie': 2604, 'thinking': 4478, 'celebrate': 638, 'phase': 3308, 'enough': 1460, 'resource': 3728, 'crown': 1022, 'dropping': 1353, 'detained': 1176, 'europe': 1511, 'somebody': 4126, 'plain': 3339, 'bye': 547, 'minnesota': 2862, 'above': 11, 'protecting': 3511, 'crossing': 1019, 'britain': 500, 'facemasks': 1608, 'beat': 351, 'pirbright': 3330, 'institute': 2329, 'sale': 3821, 'creation': 1003, 'falling': 1628, 'specie': 4169, 'jesus': 2428, 'enforce': 1451, 'greater': 1954, 'stan': 4222, 'nct': 2992, 'entertainment': 1466, 'mine': 2854, 'write': 4932, 'wanted': 4782, 'chlorine': 712, 'dioxide': 1218, 'bleach': 424, 'pure': 3545, 'dream': 1338, 'shoot': 3994, 'fatal': 1647, 'briton': 502, 'mention': 2815, 'shown': 4012, 'rail': 3586, 'rip': 3770, 'expecting': 1570, 'capable': 580, 'afraid': 76, 'metro': 2825, 'discus': 1245, 'emerged': 1434, 'fucked': 1821, 'manufacturer': 2748, 'coronavir': 925, 'lancet': 2534, 'wow': 4927, 'travelling': 4586, 'everyday': 1529, 'goverment': 1937, 'bts': 513, 'awesome': 303, 'kick': 2479, 'once': 3126, 'reason': 3629, 'boutta': 466, 'class': 741, 'bay': 345, 'buddy': 517, 'honestly': 2125, 'bull': 524, 'president': 3448, 'office': 3109, 'throw': 4497, 'isnt': 2383, 'circulating': 728, 'popping': 3385, 'travelled': 4584, 'basically': 335, 'faculty': 1616, 'imperial': 2237, 'haven': 2030, 'feed': 1671, 'msm': 2944, 'announce': 167, 'cured': 1040, 'discharged': 1237, 'discover': 1239, 'dish': 1253, 'version': 4727, 'concept': 836, 'support': 4339, 'pay': 3267, 'respect': 3729, 'huge': 2165, 'dat': 1071, 'allah': 121, 'confusing': 857, 'stated': 4239, 'field': 1687, 'germany': 1881, 'activity': 39, 'declared': 1105, 'ravaged': 3605, 'lord': 2671, 'wildfire': 4871, 'visited': 4754, 'receive': 3633, 'wan': 4779, 'maryland': 2768, 'preventive': 3458, 'advice': 62, 'traffic': 4563, 'relation': 3676, 'outlet': 3180, 'coronarovirus': 919, 'exceed': 1545, 'sister': 4055, 'believed': 375, 'latin': 2551, 'caribbean': 594, 'political': 3377, 'pain': 3219, 'dare': 1067, 'tag': 4397, 'liar': 2600, 'containing': 881, 'european': 1512, 'losing': 2675, 'sector': 3898, 'mortgage': 2924, 'nbc': 2989, 'stream': 4284, 'coping': 908, 'mobile': 2885, 'foo': 1753, 'predict': 3426, 'hello': 2067, 'hotline': 2150, 'analysis': 156, 'nigga': 3040, 'madison': 2704, 'director': 1226, 'foun': 1783, 'stress': 4287, 'cuz': 1051, 'alarming': 110, 'donald': 1308, 'surgical': 4350, 'gove': 1936, 'humor': 2172, 'stricken': 4289, 'underestimate': 4654, 'dom': 1303, 'mf': 2828, 'meant': 2791, 'african': 78, 'stressing': 4288, 'focus': 1746, 'absolutely': 14, 'indicates': 2277, 'alone': 131, 'predicts': 3429, 'ten': 4433, 'bless': 425, 'mil': 2843, 'wor': 4903, 'vitamin': 4759, 'frequently': 1806, 'senator': 3922, 'tom': 4526, 'cotton': 963, 'consider': 865, 'knew': 2500, 'bos': 456, 'feature': 1662, 'ain': 96, 'throwing': 4498, 'goodness': 1925, 'planning': 3345, 'pan': 3223, 'sunday': 4332, 'flown': 1742, 'chi': 695, 'husband': 2182, 'user': 4699, 'comparing': 825, 'tweeted': 4632, 'finally': 1703, 'exposed': 1592, 'art': 241, 'cctv': 633, 'network': 3014, 'either': 1419, 'analyst': 157, 'upon': 4687, 'finish': 1710, 'registered': 3668, 'nearly': 2996, 'deserve': 1165, 'chan': 665, 'meal': 2788, 'biotech': 405, 'opened': 3138, 'finna': 1713, 'foot': 1756, 'identify': 2199, 'verify': 4726, 'part': 3245, 'push': 3548, 'swift': 4380, 'solid': 4119, 'fill': 1697, 'deadliest': 1085, 'victoria': 4734, 'airplane': 103, 'vendor': 4722, 'brother': 507, 'process': 3482, 'carolina': 598, 'miss': 2872, 'wipe': 4882, 'myself': 2961, 'track': 4556, 'assessment': 258, 'nejm': 3007, 'perspective': 3300, 'melbourne': 2806, 'newpaper': 3022, 'fake': 1625, 'carrier': 601, 'nervous': 3011, 'circle': 727, 'diagnosis': 1195, 'kind': 2488, 'induced': 2284, 'tbh': 4414, 'selloff': 3917, 'green': 1957, 'beach': 347, 'horizon': 2137, 'explainer': 1581, 'extreme': 1601, 'immediate': 2221, 'reminder': 3694, 'hopkins': 2136, 'usually': 4702, 'construction': 870, 'fat': 1646, 'ignorant': 2205, 'simpson': 4042, 'mark': 2761, 'spelled': 4177, 'advance': 59, 'paranoid': 3238, 'imma': 2220, 'soap': 4105, 'karma': 2463, 'dumb': 1363, 'eradicated': 1488, 'tuned': 4624, 'impeach': 2233, 'prior': 3468, 'appeal': 203, 'import': 2241, 'prayer': 3420, 'army': 231, 'knowledge': 2506, 'sen': 3920, 'selfish': 3913, 'bullshit': 527, 'fails': 1621, 'passed': 3253, 'henan': 2072, 'checked': 687, 'rattle': 3604, 'investment': 2362, 'strategist': 4282, 'crowd': 1020, 'fema': 1677, 'law': 2557, 'colorado': 798, 'without': 4895, 'glove': 1907, 'nak': 2971, 'gone': 1920, 'criticism': 1016, 'touching': 4543, 'bag': 314, 'rid': 3765, 'wuflu': 4941, 'accepted': 23, 'thus': 4503, 'strong': 4293, 'eliminate': 1425, 'stone': 4270, 'window': 4877, 'sour': 4150, 'boom': 451, 'urge': 4689, 'prisoner': 3471, 'slowing': 4080, 'explains': 1583, 'wiping': 4884, 'percentage': 3284, 'reduces': 3653, 'rich': 3763, 'cycle': 1054, 'particle': 3247, 'amazon': 143, 'plz': 3366, 'extremely': 1602, 'anyway': 190, 'politics': 3379, 'necessary': 2999, 'grew': 1960, 'crude': 1024, 'struggle': 4298, 'plunged': 3364, 'coro': 914, 'ugly': 4642, 'lied': 2605, 'active': 37, 'nationwide': 2983, 'leader': 2566, 'declares': 1106, 'earth': 1383, 'lad': 2529, 'proud': 3519, 'spoke': 4187, 'xinjiang': 4960, 'versus': 4728, 'loose': 2670, 'warfare': 4786, 'largest': 2542, 'christian': 720, 'misinformation': 2868, 'studio': 4302, 'citywide': 733, 'easy': 1391, 'affecting': 74, 'somehow': 4127, 'anywhere': 192, 'loved': 2680, 'zimbabwe': 4995, 'unprepared': 4677, 'provides': 3525, 'contracting': 895, 'battling': 343, 'toilet': 4522, 'ecdc': 1398, 'moot': 2915, 'malaysian': 2728, 'tracker': 4557, 'soleimani': 4118, 'flood': 1737, 'slump': 4083, 'nuclear': 3082, 'queensland': 3567, 'protected': 3510, 'disagree': 1230, 'proportion': 3507, 'suggest': 4323, 'biological': 403, 'liverpool': 2639, 'ish': 2379, 'express': 1595, 'urgent': 4691, 'certainly': 656, 'stigma': 4262, 'led': 2582, 'ccpchina': 632, 'whoever': 4858, 'universe': 4669, 'continued': 889, 'amazing': 142, 'useless': 4698, 'trend': 4594, 'lassa': 2544, 'fever': 1681, 'throat': 4494, 'sore': 4139, 'regard': 3661, 'individual': 2279, 'protest': 3516, 'minute': 2864, 'supposed': 4342, 'religion': 3686, 'survival': 4359, 'surface': 4347, 'terrorism': 4443, 'bullish': 526, 'hiding': 2085, 'multi': 2947, 'education': 1407, 'cross': 1018, 'finger': 1709, 'reference': 3656, 'clinic': 754, 'based': 333, 'disappeared': 1232, 'imagine': 2217, 'indicate': 2276, 'priority': 3469, 'wellness': 4833, 'facility': 1610, 'diagnose': 1193, 'specialist': 4168, 'pa': 3210, 'evacuate': 1514, 'campaign': 563, 'dressed': 1339, 'fault': 1652, 'adding': 46, 'lovely': 2682, 'continue': 888, 'occur': 3101, 'guard': 1976, 'moving': 2940, 'nowhere': 3078, 'excited': 1550, 'sudden': 4318, 'normal': 3062, 'owns': 3208, 'chair': 659, 'durham': 1368, 'realtime': 3628, 'background': 309, 'pressure': 3451, 'angel': 160, 'org': 3154, 'bride': 489, 'admits': 55, 'giving': 1896, 'sad': 3813, 'shall': 3963, 'monday': 2902, 'artist': 245, 'schedule': 3857, 'considering': 867, 'status': 4245, 'containment': 882, 'tweeting': 4633, 'evacuation': 1518, 'diplomat': 1220, 'haha': 1992, 'stupidity': 4308, 'highlight': 2089, 'deadlier': 1084, 'awareness': 301, 'ignore': 2206, 'epidemiologist': 1479, 'regime': 3664, 'overview': 3201, 'biologist': 404, 'kayo': 2466, 'chemical': 691, 'odd': 3103, 'agent': 87, 'beast': 350, 'somewhere': 4131, 'timely': 4513, 'broken': 506, 'lowkey': 2686, 'answer': 175, 'renamed': 3701, 'deployed': 1153, 'faith': 1624, 'reality': 3623, 'fir': 1714, 'bali': 318, 'accused': 30, 'engineering': 1455, 'wondering': 4901, 'desperate': 1168, 'hotspot': 2152, 'headed': 2041, 'linking': 2626, 'virology': 4747, 'joking': 2443, 'dramatic': 1335, 'soft': 4112, 'member': 2809, 'objection': 3095, 'son': 4132, 'accurate': 29, 'kindly': 2490, 'googling': 1928, 'charter': 679, 'explaining': 1582, 'casualty': 612, 'mutated': 2956, 'havoc': 2032, 'language': 2538, 'do': 1284, 'incurable': 2268, 'dodge': 1294, 'agreement': 92, 'war': 4784, 'poor': 3383, 'though': 4483, 'remedy': 3691, 'age': 84, 'standing': 4226, 'experimental': 1577, 'coronaoutbreak': 916, 'coronarvirus': 921, 'theater': 4460, 'ordered': 3151, 'agreed': 91, 'digital': 1215, 'hidden': 2083, 'rep': 3705, 'terrifying': 4440, 'useful': 4697, 'inhumane': 2310, 'smoking': 4096, 'nebraska': 2998, 'clan': 738, 'radio': 3583, 'blowing': 436, 'exact': 1538, 'senate': 3921, 'bigger': 395, 'corner': 913, 'board': 440, 'wil': 4868, 'exist': 1556, 'queen': 3566, 'massive': 2773, 'alot': 134, 'dec': 1097, 'forum': 1781, 'speaking': 4165, 'recover': 3646, 'hmm': 2104, 'concentration': 835, 'camp': 562, 'thru': 4499, 'win': 4875, 'except': 1549, 'deleted': 1133, 'censored': 644, 'postponed': 3403, 'nih': 3043, 'managing': 2738, 'arizona': 227, 'engineer': 1453, 'inappropriate': 2253, 'icu': 2194, 'presumptive': 3452, 'listen': 2630, 'pod': 3370, 'variant': 4715, 'globally': 1905, 'store': 4274, 'expose': 1591, 'core': 912, 'flaw': 1729, 'strength': 4286, 'governance': 1938, 'shaking': 3962, 'compiled': 828, 'ambulance': 146, 'chief': 698, 'choice': 714, 'cdnpoli': 635, 'recreate': 3650, 'managed': 2735, 'sneezing': 4101, 'tried': 4599, 'blood': 431, 'history': 2100, 'peopl': 3280, 'administration': 53, 'banning': 327, 'material': 2777, 'clout': 769, 'olympics': 3121, 'door': 1319, 'space': 4157, 'sat': 3837, 'interest': 2339, 'jama': 2411, 'fiweh': 1724, 'blue': 438, 'effective': 1412, 'reaction': 3615, 'react': 3614, 'swiftly': 4381, 'century': 652, 'posting': 3401, 'credible': 1005, 'laid': 2532, 'commercial': 811, 'dad': 1057, 'abroad': 12, 'recall': 3631, 'evacuates': 1516, 'accelerates': 20, 'beating': 352, 'holding': 2114, 'daughter': 1074, 'chat': 682, 'view': 4738, 'topic': 4535, 'detection': 1179, 'centralized': 650, 'responsibility': 3736, 'bank': 324, 'tim': 4510, 'cook': 901, 'apple': 210, 'donate': 1310, 'relief': 3684, 'problem': 3480, 'wuhanlockdown': 4950, 'bottom': 461, 'seeking': 3904, 'fate': 1649, 'happen': 2010, 'carbon': 587, 'footprint': 1760, 'tryna': 4617, 'leg': 2586, 'recovered': 3647, 'ltimo': 2688, 'moderna': 2896, 'potus': 3408, 'troop': 4604, 'asap': 247, 'smith': 4093, 'trudeau': 4607, 'liberal': 2601, 'san': 3827, 'francisco': 1794, 'hurt': 2180, 'novelcoronavirus': 3074, 'laughing': 2554, 'crush': 1028, 'wesleyan': 4837, 'consulate': 871, 'coughed': 967, 'maga': 2705, 'feb': 1664, 'opportunity': 3145, 'credit': 1006, 'southkorea': 4156, 'escape': 1494, 'fortune': 1780, 'immunity': 2227, 'buying': 546, 'propaganda': 3501, 'host': 2145, 'deep': 1113, 'agree': 90, 'honest': 2124, 'cute': 1049, 'honey': 2126, 'dashboard': 1070, 'vast': 4717, 'majority': 2720, 'plainly': 3340, 'appears': 208, 'donating': 1313, 'western': 4840, 'screw': 3877, 'informative': 2306, 'attending': 278, 'seoul': 3934, 'tha': 4451, 'mai': 2710, 'advises': 66, 'solve': 4122, 'climbing': 753, 'picture': 3322, 'internet': 2346, 'senior': 3926, 'healer': 2046, 'suggested': 4324, 'genuine': 1876, 'worth': 4924, 'strange': 4281, 'sha': 3958, 'praise': 3416, 'evacuated': 1515, 'expect': 1567, 'spit': 4186, 'relies': 3685, 'rhino': 3762, 'horn': 2138, 'apa': 193, 'breathe': 485, 'gen': 1865, 'pakistani': 3222, 'outcome': 3177, 'kuwait': 2520, 'query': 3568, 'ver': 4725, 'overheard': 3194, 'tighten': 4506, 'protective': 3513, 'disaster': 1235, 'willing': 4874, 'orange': 3149, 'security': 3900, 'empty': 1444, 'match': 2775, 'crypto': 1030, 'binance': 401, 'pledge': 3357, 'quicker': 3573, 'proven': 3521, 'society': 4110, 'whistleblower': 4855, 'itv': 2401, 'elderly': 1421, 'invented': 2355, 'eng': 1452, 'sub': 4310, 'swiss': 4383, 'horrible': 2139, 'shouldn': 4005, 'genomic': 1874, 'sinophobia': 4053, 'average': 293, 'ability': 7, 'football': 1758, 'sport': 4193, 'single': 4051, 'register': 3667, 'xenophobic': 4958, 'measles': 2793, 'porn': 3390, 'winning': 4880, 'league': 2570, 'praying': 3422, 'modern': 2895, 'genuinely': 1877, 'academic': 18, 'prob': 3476, 'loan': 2648, 'bacteria': 310, 'evaluated': 1520, 'turned': 4627, 'awful': 304, 'esta': 1500, 'perfect': 3285, 'storm': 4275, 'exists': 1560, 'filthy': 1701, 'communism': 819, 'brief': 490, 'confident': 847, 'award': 299, 'complete': 830, 'ani': 165, 'adult': 58, 'cast': 611, 'quarter': 3564, 'steal': 4250, 'weaponize': 4811, 'challenge': 662, 'winter': 4881, 'fully': 1829, 'weed': 4821, 'minor': 2863, 'stomach': 4269, 'fyi': 1843, 'studying': 4304, 'mile': 2846, 'aside': 251, 'minimize': 2858, 'unfortunately': 4662, 'direct': 1223, 'importing': 2246, 'realize': 3624, 'amongst': 153, 'per': 3282, 'legend': 2588, 'pro': 3474, 'sequencing': 3939, 'experience': 1573, 'capacity': 581, 'malay': 2726, 'labeled': 2523, 'goal': 1911, 'author': 288, 'actual': 40, 'estimated': 1504, 'tds': 4415, 'father': 1650, 'papa': 3232, 'answered': 176, 'democrat': 1143, 'imp': 2229, 'rlly': 3776, 'kahit': 2461, 'lysol': 2697, 'doubt': 1324, 'onset': 3131, 'danger': 1065, 'production': 3486, 'aapl': 1, 'trading': 4561, 'newsletter': 3028, 'kept': 2472, 'po': 3369, 'sleep': 4073, 'explodes': 1585, 'yea': 4965, 'delivers': 1137, 'truck': 4606, 'district': 1276, 'seller': 3915, 'googled': 1927, 'sho': 3990, 'fuckin': 1823, 'dark': 1068, 'lately': 2548, 'vote': 4766, 'greece': 1956, 'connecticut': 861, 'popular': 3386, 'allows': 128, 'premier': 3435, 'worsens': 4921, 'ivory': 2404, 'sana': 3828, 'scarier': 3852, 'announcement': 169, 'mea': 2787, 'poll': 3380, 'management': 2736, 'recovery': 3649, 'extend': 1596, 'festival': 1680, 'fallout': 1629, 'tesla': 4445, 'bioweapon': 407, 'increasingly': 2265, 'publishes': 3536, 'catastrophic': 616, 'jones': 2444, 'wrote': 4937, 'alcohol': 111, 'impossible': 2250, 'spending': 4180, 'ctv': 1033, 'aka': 107, 'topbuzz': 4534, 'sensible': 3929, 'permanent': 3291, 'soo': 4136, 'documented': 1292, 'becoming': 358, 'tear': 4419, 'gas': 1854, 'sake': 3820, 'performance': 3286, 'athletics': 271, 'championship': 664, 'destruction': 1173, 'unwell': 4682, 'lived': 2638, 'inner': 2313, 'hypochondriac': 2185, 'nut': 3087, 'francis': 1793, 'as': 246, 'invent': 2354, 'robert': 3779, 'sanitizer': 3831, 'transmit': 4573, 'method': 2824, 'pak': 3220, 'content': 886, 'newprofilepic': 3023, 'intensify': 2336, 'humble': 2169, 'hoax': 2109, 'parody': 3244, 'interactive': 2338, 'coronaviruscanada': 929, 'chest': 694, 'nose': 3066, 'frontline': 1818, 'tariff': 4409, 'upset': 4688, 'stats': 4244, 'helpful': 2070, 'doesnt': 1298, 'continuing': 891, 'drug': 1355, 'angeles': 161, 'massachusetts': 2772, 'hmmm': 2105, 'featuring': 1663, 'modelos': 2893, 'immigrant': 2223, 'consume': 872, 'role': 3782, 'virginia': 4745, 'cent': 647, 'property': 3504, 'ich': 2193, 'da': 1056, 'stfu': 4260, 'michigan': 2831, 'indiana': 2275, 'cooperation': 904, 'chen': 692, 'kobe': 2509, 'bryant': 511, 'goa': 1910, 'evacuating': 1517, 'soda': 4111, 'route': 3793, 'remove': 3697, 'abbvie': 3, 'coronavirusfrance': 934, 'coronaviruswuhan': 947, 'peace': 3269, 'realized': 3625, 'spelling': 4178, 'biden': 393, 'greatest': 1955, 'basketball': 337, 'distribution': 1275, 'maricopa': 2760, 'target': 4406, 'passing': 3255, 'tension': 4436, 'expanding': 1564, 'watched': 4802, 'outta': 3187, 'shout': 4006, 'girlfriend': 1893, 'job': 2434, 'sweden': 4378, 'blockchain': 427, 'vega': 4719, 'lose': 2673, 'brink': 498, 'staying': 4247, 'ard': 220, 'couldn': 971, 'exceeds': 1547, 'mate': 2776, 'nominate': 3055, 'champion': 663, 'airlift': 101, 'sentence': 3932, 'sense': 3927, 'pharmaceutical': 3306, 'secret': 3892, 'anonymous': 173, 'hunt': 2177, 'missing': 2874, 'schumer': 3861, 'themselves': 4465, 'economics': 1400, 'apart': 194, 'discovery': 1242, 'forest': 1771, 'harder': 2016, 'cytokine': 1055, 'asu': 267, 'stat': 4237, 'christmas': 721, 'island': 2381, 'apartment': 195, 'helicopter': 2065, 'iraq': 2372, 'silent': 4036, 'importance': 2242, 'convinced': 900, 'alabama': 108, 'stopping': 4273, 'arrive': 237, 'respond': 3732, 'unexpected': 4661, 'recap': 3632, 'funding': 1834, 'card': 588, 'fda': 1656, 'cleared': 745, 'approved': 214, 'protects': 3514, 'specifically': 4171, 'ftse': 1819, 'master': 2774, 'protester': 3517, 'proposed': 3508, 'jumped': 2452, 'followed': 1750, 'justin': 2459, 'messing': 2821, 'fearful': 1659, 'shunned': 4014, 'fragile': 1791, 'cool': 903, 'conflict': 855, 'tally': 4404, 'weakness': 4809, 'collapse': 793, 'power': 3410, 'cryptocurrency': 1031, 'serio': 3942, 'understanding': 4659, 'mapped': 2752, 'goin': 1915, 'chris': 718, 'martenson': 2767, 'newsalert': 3025, 'barely': 330, 'heat': 2057, 'degree': 1126, 'broke': 505, 'dun': 1364, 'tragedy': 4564, 'pushing': 3549, 'min': 2852, 'lobster': 2649, 'michael': 2830, 'impacted': 2231, 'continent': 887, 'edition': 1404, 'roommate': 3787, 'bush': 536, 'tax': 4412, 'tiktok': 4508, 'worldnews': 4913, 'attack': 273, 'translation': 4571, 'steam': 4251, 'factor': 1614, 'oms': 3124, 'usd': 4694, 'mit': 2879, 'carrielam': 600, 'nach': 2965, 'yuan': 4985, 'survive': 4360, 'weather': 4815, 'damage': 1061, 'wuhanoutbreak': 4951, 'charity': 677, 'wale': 4774, 'scramble': 3871, 'evac': 1513, 'carried': 599, 'strict': 4290, 'refund': 3658, 'booked': 449, 'camel': 559, 'harvard': 2023, 'wikipedia': 4867, 'mideast': 2837, 'nap': 2974, 'speak': 4164, 'bracing': 472, 'kicked': 2480, 'jew': 2430, 'lmfao': 2645, 'perhaps': 3287, 'burn': 533, 'anybody': 186, 'lymes': 2696, 'questioned': 3570, 'rna': 3777, 'receptor': 3637, 'gene': 1867, 'tough': 4544, 'suicide': 4327, 'brit': 499, 'flooding': 1738, 'prof': 3487, 'meltdown': 2808, 'fueling': 1826, 'biowarfare': 406, 'facebook': 1605, 'bushfires': 538, 'lang': 2537, 'confidence': 846, 'manila': 2741, 'survey': 4358, 'interviewed': 2348, 'statistic': 4243, 'panda': 3225, 'ambassador': 144, 'heartbreaking': 2055, 'bloomberg': 433, 'implemented': 2239, 'chang': 667, 'com': 800, 'flow': 1741, 'asset': 259, 'shameful': 3965, 'antiviral': 181, 'mongolia': 2906, 'shocking': 3993, 'jakarta': 2410, 'teaching': 4417, 'joy': 2449, 'sink': 4052, 'hint': 2097, 'pharma': 3305, 'forgot': 1775, 'account': 28, 'alright': 137, 'sensex': 3928, 'plummet': 3362, 'loser': 2674, 'koronavirus': 2516, 'sigh': 4029, 'accept': 22, 'tumble': 4622, 'distress': 1274, 'ino': 2315, 'dismissed': 1259, 'realizing': 3626, 'catastrophe': 615, 'bombshell': 446, 'republican': 3716, 'botswana': 459, 'sight': 4030, 'sufferer': 4321, 'mor': 2916, 'lacking': 2527, 'cambodia': 557, 'saving': 3841, 'xrp': 4961, 'med': 2796, 'influence': 2300, 'regulation': 3670, 'wide': 4862, 'spain': 4158, 'fleeing': 1732, 'rating': 3603, 'emperor': 1441, 'ghanaian': 1885, 'mayor': 2784, 'bangkok': 321, 'ethiopia': 1508, 'hai': 1994, 'aur': 281, 'slap': 4071, 'paying': 3268, 'pero': 3293, 'manage': 2734, 'iii': 2210, 'refused': 3660, 'toddler': 4520, 'dutch': 1371, 'silver': 4037, 'lining': 2623, 'hype': 2184, 'seventh': 3951, 'staysafe': 4248, 'false': 1630, 'searo': 3884, 'emro': 1445, 'afro': 79, 'kenyan': 2471, 'essential': 1498, 'slide': 4075, 'politician': 3378, 'blaming': 421, 'xiaomi': 4959, 'introduces': 2352, 'icymi': 2195, 'remains': 3689, 'dip': 1219, 'bought': 462, 'oth': 3165, 'snapshot': 4098, 'negatively': 3003, 'capitalism': 584, 'partner': 3250, 'spokesman': 4189, 'female': 1678, 'project': 3494, 'assistance': 262, 'bomb': 445, 'sri': 4212, 'lanka': 2539, 'ironic': 2375, 'eerie': 1408, 'quiet': 3575, 'srilanka': 4213, 'employee': 1442, 'kiwi': 2497, 'stranded': 4280, 'pending': 3275, 'eric': 1489, 'kobebraynt': 2510, 'letting': 2597, 'fund': 1832, 'along': 132, 'preparedness': 3440, 'thi': 4474, 'justify': 2458, 'disrespectful': 1264, 'charge': 676, 'temporarily': 4431, 'scheduled': 3858, 'villa': 4740, 'bond': 447, 'arrest': 233, 'activist': 38, 'cleaning': 743, 'ensure': 1461, 'asymptomatic': 269, 'brown': 509, 'fuel': 1825, 'consumer': 873, 'gop': 1929, 'auto': 291, 'overreacting': 3196, 'stage': 4218, 'confirme': 852, 'liner': 2621, 'sailing': 3818, 'ticket': 4504, 'relating': 3675, 'stereotype': 4258, 'luck': 2689, 'laughed': 2553, 'reducing': 3654, 'path': 3262, 'triggered': 4601, 'kno': 2501, 'excellent': 1548, 'memorial': 2811, 'relate': 3673, 'imo': 2228, 'fucker': 1822, 'uni': 4663, 'unit': 4666, 'scam': 3847, 'twice': 4634, 'sentiment': 3933, 'former': 1777, 'skip': 4066, 'btw': 514, 'shudder': 4013, 'physician': 3316, 'conservative': 864, 'bear': 348, 'intensifies': 2335, 'spx': 4208, 'hug': 2164, 'dropped': 1352, 'citing': 730, 'foxconn': 1789, 'samsung': 3826, 'lil': 2614, 'quit': 3576, 'jus': 2455, 'sweeping': 4379, 'racing': 3580, 'incoming': 2260, 'evacuee': 1519, 'habit': 1989, 'mainstream': 2715, 'cheaper': 684, 'text': 4450, 'virtual': 4748, 'heavily': 2059, 'brave': 475, 'pregnant': 3432, 'misconception': 2867, 'fam': 1632, 'career': 590, 'forefront': 1768, 'cheap': 683, 'professional': 3488, 'distraction': 1273, 'dominate': 1305, 'commodity': 816, 'severely': 3954, 'driven': 1345, 'thehill': 4461, 'cry': 1029, 'shanxi': 3968, 'batch': 339, 'idiotic': 2201, 'announcing': 171, 'yield': 4974, 'curve': 1045, 'caucus': 621, 'legal': 2587, 'consequence': 863, 'shipped': 3985, 'affair': 71, 'morgan': 2919, 'plasma': 3347, 'solidarity': 4120, 'leak': 2571, 'book': 448, 'delaying': 1130, 'canceled': 570, 'cincinnati': 726, 'netherlands': 3013, 'sustained': 4375, 'hole': 2115, 'slip': 4077, 'newjersey': 3020, 'asx': 268, 'panicking': 3231, 'shortage': 4001, 'critical': 1015, 'hashtag': 2024, 'din': 1216, 'missed': 2873, 'disgusting': 1252, 'jumping': 2453, 'confir': 849, 'undergo': 4655, 'oklahoma': 3117, 'sacrifice': 3812, 'destroying': 1172, 'trouble': 4605, 'nyc': 3090, 'floating': 1736, 'curated': 1036, 'co': 780, 'smartphone': 4088, 'beef': 360, 'florida': 1740, 'screaming': 3873, 'claiming': 737, 'spot': 4194, 'gmt': 1908, 'peak': 3270, 'experienced': 1574, 'holder': 2113, 'independent': 2271, 'significant': 4033, 'stabilising': 4215, 'pussy': 3550, 'deemed': 1112, 'issuing': 2393, 'visa': 4752, 'terrorist': 4444, 'absence': 13, 'suspicious': 4374, 'plenty': 3359, 'nifty': 3037, 'advising': 67, 'egg': 1415, 'pizza': 3332, 'delhi': 1134, 'pti': 3531, 'tightens': 4507, 'freak': 1796, 'semester': 3918, 'qatar': 3556, 'worl': 4910, 'recommends': 3642, 'outbre': 3174, 'chinatown': 706, 'spray': 4198, 'simon': 4039, 'rule': 3798, 'refer': 3655, 'bavaria': 344, 'marc': 2757, 'siegel': 4027, 'example': 1543, 'unlikely': 4673, 'allowing': 127, 'download': 1328, 'cali': 551, 'spokesperson': 4190, 'worked': 4906, 'genius': 1871, 'lka': 2643, 'iam': 2189, 'lift': 2607, 'stanley': 4228, 'smoker': 4095, 'environment': 1471, 'sam': 3823, 'indeed': 2269, 'supermarket': 4335, 'shopping': 3998, 'placed': 3335, 'enjoy': 1459, 'weaponized': 4812, 'tackling': 4396, 'misleading': 2871, 'bitter': 416, 'allegedly': 123, 'shaheen': 3960, 'bagh': 315, 'karona': 2465, 'changing': 670, 'fit': 1721, 'han': 2003, 'stole': 4267, 'nahi': 2967, 'spotted': 4196, 'straight': 4277, 'breath': 484, 'cruise': 1025, 'cancelling': 573, 'surpasses': 4352, 'elder': 1420, 'educate': 1406, 'prophet': 3506, 'vice': 4732, 'disrupt': 1265, 'nikkei': 3045, 'marketscreener': 2765, 'tune': 4623, 'slammed': 4070, 'richard': 3764, 'fkn': 1725, 'wegen': 4825, 'shove': 4008, 'depopulation': 1155, 'agenda': 86, 'mental': 2814, 'debt': 1094, 'jitter': 2433, 'therefore': 4471, 'bogus': 444, 're': 3609, 'harsh': 2022, 'ship': 3983, 'coronarvirues': 920, 'tournament': 4548, 'phoenix': 3312, 'mall': 2731, 'benefit': 380, 'checkpoint': 689, 'singaporean': 4049, 'angle': 163, 'setting': 3949, 'nairobi': 2970, 'wasnt': 4800, 'mocking': 2887, 'aviation': 295, 'driver': 1346, 'slash': 4072, 'coronavirusuk': 943, 'imported': 2245, 'glob': 1899, 'draw': 1337, 'duque': 1366, 'drove': 1354, 'onboard': 3125, 'bhi': 391, 'visualization': 4758, 'forecast': 1767, 'voluntary': 4763, 'operation': 3142, 'seat': 3887, 'characteristic': 675, 'infec': 2291, 'railway': 3587, 'sorted': 4142, 'obvious': 3098, 'coronavirusindia': 935, 'nowadays': 3077, 'held': 2064, 'goggles': 1914, 'euro': 1510, 'comparison': 826, 'repo': 3709, 'divided': 1281, 'introvert': 2353, 'sympathy': 4389, 'furious': 1837, 'flag': 1726, 'birth': 411, 'cna': 775, 'weighs': 4827, 'spent': 4181, 'dollar': 1302, 'jet': 2429, 'belief': 373, 'ingredient': 2309, 'cou': 965, 'diego': 1210, 'click': 748, 'livestream': 2640, 'approves': 215, 'midday': 2835, 'slight': 4076, 'bounce': 463, 'foreigner': 1770, 'insightful': 2323, 'regional': 3666, 'glass': 1898, 'ion': 2365, 'vector': 4718, 'parcel': 3240, 'chicken': 697, 'ultimate': 4646, 'narrative': 2976, 'amount': 154, 'austria': 287, 'badly': 313, 'airpods': 104, 'accidentally': 26, 'designed': 1167, 'domestic': 1304, 'union': 4664, 'involved': 2364, 'cope': 907, 'survivor': 4363, 'paramedic': 3236, 'chain': 658, 'confusion': 858, 'woe': 4896, 'supplier': 4337, 'skin': 4065, 'mode': 2888, 'zte': 4999, 'telecom': 4426, 'remote': 3696, 'prepping': 3445, 'wise': 4888, 'sends': 3925, 'letter': 2596, 'salute': 3822, 'liang': 2599, 'natural': 2984, 'starbucks': 4231, 'motivation': 2930, 'restrict': 3741, 'display': 1263, 'cease': 636, 'riot': 3769, 'dean': 1090, 'executive': 1553, 'ride': 3766, 'revenue': 3759, 'exotic': 1561, 'denmark': 1148, 'potentially': 3407, 'adhanom': 50, 'hhs': 2082, 'maker': 2722, 'miami': 2829, 'judge': 2450, 'ohio': 3114, 'descent': 1160, 'bangladesh': 322, 'impose': 2247, 'onto': 3133, 'caa': 549, 'hampshire': 2002, 'hay': 2035, 'der': 1159, 'determined': 1181, 'spend': 4179, 'stanning': 4229, 'isolating': 2387, 'advanced': 60, 'labour': 2525, 'vox': 4768, 'iphones': 2369, 'universal': 4668, 'mandatory': 2740, 'criminal': 1011, 'gdp': 1863, 'immigration': 2224, 'donated': 1311, 'reply': 3708, 'aggressive': 88, 'drive': 1344, 'ally': 129, 'cor': 911, 'projected': 3495, 'heavy': 2060, 'male': 2729, 'mull': 2946, 'cancer': 574, 'columbia': 799, 'greeting': 1959, 'foothold': 1759, 'protocol': 3518, 'neither': 3006, 'controlling': 898, 'roni': 3785, 'caryn': 606, 'denise': 1147, 'grady': 1945, 'birmingham': 410, 'looked': 2666, 'knock': 2502, 'apology': 199, 'cartoon': 605, 'request': 3717, 'funeral': 1835, 'rsa': 3796, 'workplace': 4909, 'hill': 2091, 'crack': 993, 'creates': 1001, 'volunteered': 4765, 'water': 4804, 'forming': 1778, 'whats': 4846, 'startling': 4235, 'tsunami': 4619, 'mph': 2942, 'responding': 3733, 'symbol': 4387, 'azar': 305, 'describes': 1163, 'erupted': 1491, 'lawrence': 2559, 'cock': 784, 'ball': 319, 'journey': 2448, 'mesa': 2818, 'manmade': 2745, 'initial': 2311, 'alive': 119, 'mcdonald': 2785, 'newest': 3019, 'loveisland': 2681, 'irrational': 2376, 'listening': 2631, 'artificially': 244, 'restricted': 3742, 'commissioner': 813, 'hawaii': 2033, 'honolulu': 2131, 'deliver': 1136, 'regular': 3669, 'risky': 3775, 'grown': 1970, 'breakthrough': 483, 'detroit': 1182, 'provided': 3523, 'gang': 1851, 'disrupting': 1267, 'booking': 450, 'chartered': 680, 'powerful': 3412, 'recommend': 3640, 'instance': 2327, 'ameripris': 149, 'homeless': 2120, 'deliberately': 1135, 'inevitable': 2287, 'bound': 464, 'corruption': 960, 'infectiousdisease': 2297, 'moron': 2921, 'realise': 3622, 'projection': 3496, 'flip': 1735, 'various': 4716, 'businessman': 540, 'catholic': 620, 'prepper': 3443, 'telework': 4427, 'continuity': 892, 'manitoba': 2743, 'nuke': 3083, 'sample': 3825, 'whistle': 4854, 'discrimination': 1244, 'suppose': 4341, 'johnson': 2437, 'policy': 3376, 'som': 4124, 'dick': 1203, 'superbowl': 4334, 'valentine': 4708, 'client': 749, 'repatriation': 3707, 'bathroom': 341, 'arrested': 234, 'explore': 1587, 'reliable': 3682, 'sniffle': 4102, 'successfully': 4315, 'peo': 3278, 'bowl': 467, 'develops': 1189, 'debunked': 1095, 'disinformation': 1258, 'plead': 3355, 'museum': 2951, 'hindi': 2095, 'reserve': 3723, 'israeli': 2390, 'weight': 4828, 'leaked': 2572, 'pile': 3326, 'main': 2712, 'doomed': 1317, 'feces': 1667, 'urine': 4692, 'crime': 1010, 'legitimate': 2590, 'offering': 3108, 'police': 3375, 'cow': 990, 'dung': 1365, 'celebrity': 641, 'pheic': 3309, 'bubble': 515, 'conversation': 899, 'alex': 114, 'pharmacy': 3307, 'outbr': 3173, 'migrant': 2841, 'final': 1702, 'briefly': 492, 'outstrip': 3186, 'refugee': 3657, 'ho': 2106, 'indonesian': 2281, 'airway': 106, 'armed': 230, 'elite': 1426, 'thin': 4475, 'herd': 2077, 'faq': 1639, 'retail': 3747, 'spirit': 4185, 'stall': 4221, 'david': 1075, 'expectation': 1568, 'fiscal': 1719, 'includes': 2258, 'bjp': 417, 'homoeopathy': 2122, 'capability': 579, 'thai': 4452, 'disinfect': 1254, 'height': 2062, 'transfer': 4569, 'toyota': 4553, 'heal': 2045, 'diverted': 1280, 'base': 332, 'freedom': 1802, 'movement': 2938, 'mini': 2856, 'pst': 3530, 'sooner': 4138, 'mum': 2949, 'forcing': 1766, 'cargo': 593, 'association': 264, 'constantly': 869, 'recession': 3638, 'vir': 4743, 'dependence': 1152, 'mission': 2875, 'isolate': 2384, 'pump': 3540, 'covered': 986, 'hunger': 2176, 'piss': 3331, 'surpass': 4351, 'prison': 3470, 'clue': 772, 'circumstance': 729, 'overtake': 3198, 'outrage': 3184, 'manufacturing': 2749, 'abuja': 16, 'disabled': 1229, 'cash': 608, 'afternoon': 81, 'modi': 2897, 'islamic': 2380, 'gauge': 1858, 'csse': 1032, 'kering': 2474, 'jack': 2406, 'procedure': 3481, 'coronaravirus': 917, 'viruscorona': 4751, 'grace': 1943, 'chip': 711, 'mixed': 2882, 'panel': 3227, 'bacterial': 311, 'closer': 763, 'eminem': 1438, 'breathing': 486, 'defeat': 1117, 'facing': 1611, 'cheer': 690, 'permission': 3292, 'tsla': 4618, 'delivery': 1138, 'surpassing': 4353, 'select': 3911, 'wrapup': 4930, 'mongering': 2905, 'fellow': 1675, 'prove': 3520, 'coronavirusupdates': 944, 'transparent': 4576, 'mot': 2928, 'ridiculous': 3767, 'ferry': 1679, 'roger': 3781, 'opec': 3136, 'billionaire': 399, 'donates': 1312, 'moon': 2914, 'compelling': 827, 'foxnews': 1790, 'hunter': 2178, 'gentle': 1875, 'mistaken': 2877, 'tragic': 4565, 'truly': 4610, 'tree': 4593, 'sheet': 3978, 'suspending': 4370, 'believing': 376, 'graduate': 1944, 'accuses': 31, 'jedrzejczyk': 2422, 'responds': 3734, 'zhang': 4990, 'weili': 4829, 'removing': 3699, 'effected': 1411, 'exceeding': 1546, 'experiment': 1576, 'coronovirusoutbreak': 953, 'abuse': 17, 'subject': 4311, 'fitch': 1722, 'adverse': 61, 'stolen': 4268, 'scrutiny': 3878, 'chairman': 660, 'powell': 3409, 'web': 4816, 'spin': 4184, 'shipper': 3986, 'dis': 1228, 'sichuan': 4021, 'nba': 2988, 'clorox': 759, 'disinfecting': 1256, 'fauci': 1651, 'lebanese': 2580, 'disruption': 1268, 'dirty': 1227, 'discovers': 1241, 'failure': 1622, 'thug': 4501, 'church': 724, 'coworker': 991, 'existed': 1557, 'seize': 3909, 'psa': 3528, 'santa': 3834, 'clara': 739, 'discussing': 1247, 'guinea': 1984, 'dynamic': 1377, 'punish': 3541, 'mock': 2886, 'arkansas': 228, 'sex': 3956, 'elizabeth': 1427, 'warren': 4793, 'shutter': 4018, 'joe': 2435, 'sponsored': 4191, 'scmp': 3865, 'hoarder': 2107, 'progress': 3492, 'primary': 3464, 'jenesuispasunvirus': 2424, 'fearing': 1660, 'aboard': 9, 'mix': 2881, 'fired': 1716, 'minimal': 2857, 'larry': 2543, 'kudlow': 2517, 'manipulation': 2742, 'scream': 3872, 'explode': 1584, 'overwatch': 3202, 'dictatorship': 1204, 'wuhanacuterespiratorysyndrome': 4944, 'makeshift': 2723, 'england': 1456, 'halting': 2000, 'launched': 2556, 'additional': 48, 'pla': 3333, 'stepping': 4257, 'dua': 1357, 'deeply': 1116, 'yahoo': 4962, 'lung': 2692, 'donaldtrump': 1309, 'gym': 1987, 'tweak': 4630, 'structure': 4297, 'soccer': 4108, 'writes': 4933, 'entirely': 1468, 'departure': 1151, 'presidential': 3449, 'raised': 3589, 'complacency': 829, 'eme': 1432, 'hurting': 2181, 'offensive': 3106, 'imho': 2219, 'newsfeed': 3026, 'diary': 1202, 'fansigns': 1638, 'allowed': 126, 'jabase': 2405, 'harm': 2019, 'ponder': 3382, 'intermediate': 2343, 'prohibited': 3493, 'eaten': 1393, 'currency': 1042, 'sig': 4028, 'shirt': 3988, 'code': 786, 'duterte': 1372, 'vein': 4721, 'formula': 1779, 'jerome': 2426, 'coronavirusph': 940, 'microsoft': 2833, 'forward': 1782, 'lawmaker': 2558, 'portion': 3392, 'pilot': 3327, 'coronaviruswho': 946, 'hea': 2038, 'hongkongprotests': 2130, 'volunteer': 4764, 'tribute': 4598, 'literal': 2633, 'plea': 3354, 'spare': 4160, 'overtakes': 3199, 'surviving': 4362, 'fia': 1685, 'symp': 4388, 'warm': 4787, 'operator': 3143, 'friendly': 1811, 'handshake': 2007, 'fair': 1623, 'inspired': 2325, 'plant': 3346, 'hun': 2173, 'quote': 3578, 'bath': 340, 'incredible': 2266, 'nintendo': 3047, 'king': 2491, 'overcome': 3192, 'coz': 992, 'ukraine': 4644, 'publish': 3534, 'insurance': 2330, 'nationality': 2982, 'evolution': 1535, 'herbal': 2076, 'prevents': 3459, 'mess': 2819, 'maintain': 2716, 'communication': 818, 'ethiopian': 1509, 'equatorial': 1484, 'incompetence': 2261, 'tencent': 4434, 'relative': 3678, 'epi': 1473, 'dems': 1144, 'gathering': 1857, 'ross': 3790, 'infe': 2290, 'knee': 2499, 'zoonotic': 4998, 'shipment': 3984, 'decrease': 1110, 'dublin': 1359, 'asean': 248, 'indefinitely': 2270, 'trail': 4566, 'creator': 1004, 'defends': 1120, 'dock': 1286, 'slowdown': 4079, 'treasury': 4588, 'smart': 4086, 'jail': 2409, 'harmful': 2020, 'expo': 1588, 'openly': 3140, 'wilbur': 4869, 'access': 24, 'cape': 582, 'plagued': 3337, 'intelligence': 2334, 'gamers': 1849, 'shipping': 3987, 'dalio': 1060, 'bhai': 390, 'mistake': 2876, 'leishenshan': 2591, 'cruiseship': 1026, 'leftist': 2585, 'corporate': 955, 'owing': 3204, 'abeg': 6, 'underground': 4656, 'eastern': 1390, 'standwithhongkong': 4227, 'huoshenshan': 2179, 'underreporting': 4657, 'faced': 1606, 'freight': 1804, 'docked': 1287, 'jamia': 2414, 'ben': 379, 'honda': 2123, 'facial': 1609, 'blanket': 422, 'soaring': 4107, 'so': 4104, 'panicked': 3230, 'plot': 3360, 'chernobyl': 693, 'solved': 4123, 'pledged': 3358, 'enters': 1465, 'shocked': 3992, 'slam': 4069, 'occurred': 3102, 'blocked': 428, 'beautiful': 353, 'wirral': 4886, 'emotet': 1440, 'malware': 2732, 'nope': 3060, 'whilst': 4853, 'therapy': 4469, 'sea': 3879, 'boris': 454, 'singing': 4050, 'shopper': 3997, 'teen': 4424, 'wuhancoronavirusoutbreak': 4947, 'acute': 42, 'pin': 3328, 'alternative': 139, 'purchase': 3544, 'internationale': 2345, 'sit': 4056, 'hardest': 2017, 'instagram': 2326, 'bin': 400, 'pat': 3259, 'insider': 2321, 'cutting': 1050, 'gay': 1860, 'jacket': 2407, 'nail': 2968, 'pmi': 3367, 'limitation': 2618, 'climatechange': 751, 'territory': 4441, 'rome': 3784, 'joining': 2440, 'italia': 2395, 'marked': 2762, 'carson': 604, 'infant': 2289, 'civil': 734, 'hoffman': 2111, 'coronavi': 924, 'epoch': 1483, 'manufacture': 2746, 'theorist': 4467, 'brilliant': 494, 'genocide': 1872, 'mill': 2849, 'iowa': 2366, 'knocked': 2503, 'fwd': 1841, 'royal': 3795, 'tout': 4549, 'bno': 439, 'exponential': 1589, 'shine': 3982, 'cybersecurity': 1053, 'impressive': 2251, 'spoken': 4188, 'coronavirususa': 945, 'hardware': 2018, 'disembark': 1251, 'para': 3234, 'speech': 4173, 'picking': 3320, 'ninth': 3048, 'telebriefing': 4425, 'newsroom': 3030, 'steady': 4249, 'resistance': 3726, 'targeting': 4408, 'corrupt': 959, 'humming': 2171, 'elevates': 1424, 'subway': 4313, 'he': 2037, 'outlook': 3182, 'volatility': 4761, 'karnataka': 2464, 'peril': 3288, 'collection': 796, 'writing': 4934, 'wedding': 4819, 'met': 2822, 'democracy': 1142, 'ards': 221, 'diversity': 1279, 'klm': 2498, 'carnival': 597, 'secrecy': 3891, 'dinner': 1217, 'vaccinate': 4705, 'pacific': 3212, 'paranoia': 3237, 'impeached': 2234, 'dodgy': 1295, 'costa': 962, 'outcry': 3178, 'milan': 2844, 'genetically': 1870, 'bangladeshi': 323, 'facemask': 1607, 'diamond': 1198, 'dealer': 1088, 'industrial': 2285, 'pretend': 3453, 'brexitday': 488, 'aircraft': 100, 'myanmar': 2960, 'miner': 2855, 'nytimes': 3092, 'holocaust': 2117, 'naturally': 2985, 'outline': 3181, 'frog': 1815, 'goldman': 1918, 'uganda': 4640, 'manchester': 2739, 'distance': 1271, 'annual': 172, 'uploaded': 4686, 'grapple': 1951, 'newcastle': 3018, 'vessel': 4730, 'sb': 3845, 'gender': 1866, 'fury': 1839, 'mp': 2941, 'skyrocket': 4068, 'vulnerable': 4769, 'pulling': 3539, 'ncyt': 2993, 'filled': 1698, 'machine': 2701, 'liquid': 2627, 'counting': 974, 'siberia': 4020, 'monetary': 2903, 'majeure': 2717, 'dot': 1321, 'produce': 3483, 'unveils': 4681, 'device': 1190, 'copper': 909, 'isa': 2378, 'appearing': 207, 'correct': 957, 'worldhealthorganization': 4912, 'ordinary': 3153, 'roundup': 3792, 'reacts': 3616, 'organizer': 3158, 'kiss': 2493, 'webinar': 4817, 'pasteur': 3257, 'function': 1831, 'argument': 225, 'intentionally': 2337, 'sideline': 4026, 'producing': 3484, 'mein': 2805, 'attacked': 274, 'smartphones': 4089, 'delta': 1139, 'diagnostic': 1196, 'novacyt': 3072, 'downside': 1330, 'fallen': 1627, 'cybercriminals': 1052, 'violent': 4742, 'max': 2781, 'medication': 2800, 'june': 2454, 'coronavirusitalia': 936, 'seizure': 3910, 'direction': 1224, 'unique': 4665, 'chinazi': 708, 'pentagon': 3277, 'importation': 2244, 'lng': 2646, 'nor': 3061, 'trillion': 4602, 'drone': 1349, 'indoors': 2283, 'la': 2521, 'hockey': 2110, 'bulletin': 525, 'rwanda': 3809, 'wave': 4805, 'intravenous': 2351, 'cocaine': 783, 'ighalo': 2203, 'epl': 1482, 'personally': 3298, 'investing': 2361, 'wwg': 4955, 'wga': 4843, 'gaming': 1850, 'impacting': 2232, 'lpga': 2687, 'clown': 770, 'sequenced': 3938, 'horseman': 2142, 'coach': 781, 'gilead': 1890, 'sou': 4144, 'squad': 4210, 'frightened': 1812, 'mar': 2754, 'remdesivir': 3690, 'graph': 1949, 'ukrainian': 4645, 'ibio': 2191, 'ethical': 1507, 'breakout': 482, 'anthony': 177, 'rea': 3610, 'stable': 4216, 'catalyst': 614, 'title': 4518, 'walmart': 4778, 'myth': 2964, 'turner': 4628, 'joined': 2439, 'elsewhere': 1429, 'utd': 4703, 'duration': 1367, 'evolved': 1536, 'repatriated': 3706, 'contains': 883, 'insertion': 2319, 'stoking': 4266, 'sort': 4141, 'rescue': 3718, 'shooting': 3995, 'numerous': 3085, 'kidding': 2482, 'recognition': 3639, 'freezerohedge': 1803, 'mainly': 2714, 'overblown': 3191, 'cop': 906, 'hindu': 2096, 'mahasabha': 2709, 'spice': 4182, 'doxxing': 1331, 'hero': 2080, 'fujifilm': 1827, 'georgia': 1878, 'exaggerated': 1540, 'joint': 2441, 'una': 4647, 'physical': 3315, 'taxi': 4413, 'qantas': 3555, 'fri': 1808, 'mouse': 2935, 'admitting': 57, 'cottrell': 964, 'casino': 610, 'percent': 3283, 'basis': 336, 'removed': 3698, 'incident': 2255, 'admin': 52, 'paddington': 3216, 'aerosol': 69, 'filter': 1700, 'boarding': 441, 'ski': 4064, 'letsbeatcoronatogether': 2595, 'clueless': 773, 'arresting': 235, 'eater': 1394, 'kim': 2487, 'jong': 2445, 'size': 4063, 'aim': 95, 'courage': 978, 'malaria': 2725, 'confined': 848, 'paid': 3218, 'mining': 2859, 'pull': 3537, 'withdraws': 4893, 'pee': 3272, 'captain': 585, 'censorship': 646, 'defense': 1121, 'abandoned': 2, 'tiny': 4514, 'pastor': 3258, 'exploiting': 1586, 'rare': 3599, 'obama': 3093, 'famous': 1635, 'ken': 2469, 'eighth': 1418, 'hunan': 2174, 'relationship': 3677, 'tank': 4405, 'malicious': 2730, 'fade': 1617, 'nepali': 3010, 'birdflu': 409, 'dod': 1293, 'disappointed': 1234, 'abe': 5, 'vow': 4767, 'combination': 802, 'attended': 277, 'lackland': 2528, 'afb': 70, 'censoring': 645, 'enemy': 1449, 'devastating': 1183, 'wreaking': 4931, 'ivanka': 2402, 'pigeon': 3325, 'periscope': 3290, 'heartgang': 2056, 'spreadluv': 4205, 'itbp': 2398, 'preppers': 3444, 'nomeat': 3054, 'nocoronavirus': 3052, 'sin': 4045, 'shandong': 3966, 'pax': 3266, 'library': 2602, 'dea': 1081, 'worship': 4922, 'saint': 3819, 'rampal': 3593, 'maharaj': 2708, 'indication': 2278, 'serving': 3946, 'coronarivus': 918, 'shelter': 3979, 'avian': 294, 'soul': 4145, 'cremated': 1008, 'section': 3897, 'apps': 216, 'scold': 3866, 'urged': 4690, 'command': 807, 'resilient': 3725, 'mixture': 2883, 'supreme': 4344, 'ove': 3188, 'buffet': 519, 'cloud': 768, 'artificial': 243, 'punished': 3542, 'prankster': 3418, 'censor': 643, 'lea': 2564, 'hilton': 2092, 'negotiation': 3004, 'barcelona': 329, 'silenced': 4035, 'focused': 1747, 'properly': 3503, 'wine': 4878, 'defence': 1118, 'difficulty': 1214, 'hair': 1995, 'declined': 1109, 'directive': 1225, 'apparent': 201, 'success': 4314, 'cocktail': 785, 'mitigate': 2880, 'lasting': 2546, 'suppress': 4343, 'relevant': 3681, 'smile': 4092, 'prank': 3417, 'shed': 3977, 'overall': 3190, 'exposing': 1593, 'kuo': 2519, 'marat': 2755, 'finance': 1704, 'in': 2252, 'combined': 803, 'candidate': 575, 'behavior': 369, 'promising': 3497, 'resume': 3746, 'software': 4114, 'penalty': 3274, 'pshuttle': 3529, 'coronavrius': 949, 'hacker': 1990, 'secretive': 3894, 'obsession': 3097, 'reopen': 3703, 'opt': 3146, 'paralysis': 3235, 'extended': 1597, 'diy': 1282, 'grocery': 1962, 'assuming': 266, 'garlic': 1853, 'campbell': 564, 'diarrhea': 1201, 'prejudice': 3433, 'cap': 578, 'equipment': 1485, 'rescued': 3719, 'southafrica': 4153, 'menace': 2813, 'crucial': 1023, 'threatened': 4490, 'comedian': 805, 'discharge': 1236, 'clothes': 766, 'eventually': 1525, 'overcoming': 3193, 'clip': 757, 'sprayed': 4199, 'dance': 1064, 'rejected': 3672, 'file': 1694, 'discriminate': 1243, 'enhanced': 1458, 'moral': 2917, 'nears': 2997, 'iceberg': 2192, 'deepening': 1114, 'defend': 1119, 'rage': 3584, 'susceptible': 4364, 'zhejiang': 4991, 'irresponsible': 2377, 'linger': 2622, 'forbes': 1762, 'pulled': 3538, 'tied': 4505, 'shortcoming': 4002, 'deficiency': 1122, 'boyle': 470, 'grand': 1946, 'prix': 3473, 'operated': 3141, 'flawed': 1730, 'donation': 1314, 'awaiting': 298, 'mountain': 2933, 'gordon': 1930, 'gottlieb': 1934, 'themed': 4464, 'curecancer': 1039, 'trueworship': 4609, 'whic': 4850, 'noted': 3069, 'gambling': 1847, 'globalization': 1904, 'attend': 276, 'insurer': 2331, 'valid': 4709, 'travis': 4587, 'hongkongers': 2129, 'microscope': 2832, 'locally': 2651, 'baba': 306, 'chloroquine': 713, 'effectively': 1413, 'committed': 814, 'envision': 1472, 'cointelegraph': 790, 'cfr': 657, 'phishing': 3311, 'insists': 2324, 'definition': 1125, 'nokia': 3053, 'cola': 791, 'innovation': 2314, 'wanting': 4783, 'westjet': 4841, 'guest': 1980, 'organiser': 3156, 'tedros': 4423, 'hyundai': 2188, 'addition': 47, 'fiction': 1686, 'separated': 3936, 'ignoring': 2209, 'sotu': 4143, 'nike': 3044, 'defies': 1123, 'globaleconomy': 1901, 'suggesting': 4325, 'denied': 1145, 'princess': 3467, 'caveat': 628, 'arirang': 226, 'widely': 4863, 'yokohama': 4976, 'computer': 833, 'mwc': 2959, 'fashion': 1643, 'banker': 325, 'probe': 3479, 'withdraw': 4892, 'unpaid': 4675, 'training': 4568, 'dutton': 1373, 'maria': 2759, 'optimism': 3147, 'prayforwuhan': 3421, 'lick': 2603, 'adidas': 51, 'liquidit': 2628, 'bundle': 530, 'secure': 3899, 'sony': 4135, 'shadow': 3959, 'math': 2778, 'newborn': 3017, 'christ': 719, 'mankind': 2744, 'expe': 1566, 'electronics': 1423, 'gift': 1888, 'gasoline': 1855, 'flash': 1727, 'docking': 1288, 'kfc': 2477, 'ambition': 145, 'worldometer': 4914, 'buyer': 545, 'hoarding': 2108, 'trace': 4554, 'concise': 841, 'youngest': 4980, 'square': 4211, 'crackdown': 994, 'korle': 2515, 'ignores': 2208, 'assembly': 257, 'emission': 1439, 'disinfection': 1257, 'corononavirus': 951, 'sanofi': 3833, 'miramar': 2865, 'hometown': 2121, 'reliance': 3683, 'brighton': 493, 'sounded': 4147, 'wenliang': 4834, 'wind': 4876, 'alleged': 122, 'authoritarian': 289, 'disrupts': 1269, 'sounding': 4148, 'startup': 4236, 'drliwenliang': 1348, 'outer': 3179, 'sack': 3810, 'chapter': 674, 'blower': 435, 'chaotic': 673, 'halve': 2001, 'fifty': 1689, 'frank': 1795, 'antonio': 182, 'failing': 1620, 'peaked': 3271, 'ignored': 2207, 'disclosed': 1238, 'approval': 213, 'infodemic': 2303, 'chase': 681, 'crop': 1017, 'dir': 1221, 'burberry': 532, 'pangolin': 3228, 'norwegian': 3065, 'sixty': 4062, 'chronic': 722, 'ignorance': 2204, 'fewer': 1683, 'ericsson': 1490, 'coronarvirusoutbreak': 922, 'liwenliang': 2642, 'dire': 1222, 'diamondprincess': 1199, 'quar': 3560, 'powered': 3411, 'coronavius': 948, 'wartime': 4794, 'downgrade': 1327, 'milton': 2851, 'keynes': 2476, 'persist': 3294, 'dragged': 1334, 'reopening': 3704, 'fecal': 1666, 'disappears': 1233, 'clothing': 767, 'nvidia': 3089, 'presence': 3446, 'sander': 3830, 'torture': 4537, 'overtaking': 3200, 'discussed': 1246, 'coronavirusreports': 941, 'majorca': 2719, 'chalet': 661, 'restart': 3739, 'mac': 2698, 'valued': 4712, 'odion': 3104, 'bahcesaray': 316, 'pegasus': 3273, 'coronavirustruth': 942, 'assault': 256, 'alp': 135, 'easing': 1388, 'shouting': 4007, 'forcibly': 1765, 'nazi': 2987, 'medicare': 2799, 'ncp': 2991, 'limbo': 2615, 'prophecy': 3505, 'stagger': 4219, 'chronicle': 723, 'globalists': 1903, 'oly': 3119, 'qiushi': 3557, 'gucci': 1978, 'hotpot': 2151, 'stephen': 4255, 'revise': 3761, 'kitchen': 2496, 'tottenham': 4540, 'dele': 1131, 'alli': 124, 'apologises': 198, 'exiled': 1555, 'dissident': 1270, 'hsbc': 2159, 'inflation': 2299, 'lowest': 2685, 'creepy': 1007, 'grandmother': 1947, 'strait': 4279, 'listing': 2632, 'nissan': 3049, 'gsma': 1973, 'recovering': 3648, 'gps': 1942, 'coronavirusfacts': 933, 'bump': 528, 'speeding': 4175, 'domino': 1306, 'button': 543, 'dismisses': 1260, 'modeling': 2891, 'crunch': 1027, 'hal': 1996, 'sanction': 3829, 'sacked': 3811, 'mistakenly': 2878, 'pipe': 3329, 'ea': 1378, 'intel': 2333, 'criterion': 1013, 'unchecked': 4651, 'coronavirusjapan': 938, 'clearing': 746, 'covid': 989, 'falun': 1631, 'gong': 1921, 'practitioner': 3415, 'galaxy': 1846, 'fbi': 1655, 'coronavavirus': 923, 'soften': 4113, 'stagnates': 4220, 'db': 1080, 'hysterical': 2187, 'appeared': 206, 'shave': 3975, 'exaronews': 1544, 'mislabeled': 2870, 'inquiry': 2317, 'intraday': 2350, 'deeper': 1115, 'oxford': 3209, 'westerdam': 4839, 'bakker': 317, 'daegu': 1058, 'sarscov': 3836, 'lawyer': 2560, 'hotbed': 2148, 'seemed': 3906, 'militarization': 2847, 'darkness': 1069, 'napa': 2975, 'renewed': 3702, 'rural': 3804, 'covd': 983, 'mln': 2884, 'sona': 4133, 'stimulus': 4264, 'kai': 2462, 'strongly': 4295, 'misjudge': 2869, 'condemn': 842, 'vanished': 4714, 'runway': 3803, 'koontz': 2512, 'imf': 2218, 'caring': 595, 'religious': 3687, 'rescuer': 3720, 'modeler': 2890, 'gaze': 1861, 'coronavirius': 926, 'neighbour': 3005, 'entrance': 1469, 'pickup': 3321, 'marathon': 2756, 'cameroon': 561, 'hawaiian': 2034, 'recount': 3645, 'ipad': 2367, 'liu': 2636, 'zhiming': 4992, 'msc': 2943, 'jaguar': 2408, 'rover': 3794, 'coronavirusdeath': 931, 'magu': 2707, 'omaha': 3122, 'petri': 3304, 'efcc': 1409, 'lcc': 2562, 'casi': 609, 'expels': 1572, 'incinerator': 2256, 'qom': 3558, 'cult': 1034, 'iata': 2190, 'gdc': 1862, 'sect': 3896, 'humboldt': 2170, 'clash': 740, 'lebanon': 2581, 'narrowing': 2977, 'lombardy': 2660, 'apc': 196, 'fayose': 1654, 'coronavirusitaly': 937, 'bungling': 531, 'untraceable': 4679, 'giorgio': 1891, 'armani': 229, 'venice': 4723, 'raid': 3585}\n"
     ]
    }
   ],
   "source": [
    "print(tfidf_vect.vocabulary_)"
   ]
  },
  {
   "cell_type": "code",
   "execution_count": 46,
   "id": "0f806380",
   "metadata": {},
   "outputs": [],
   "source": [
    "from sklearn.svm import SVC\n",
    "from sklearn.metrics import accuracy_score\n",
    "from sklearn.metrics import ConfusionMatrixDisplay,classification_report\n",
    "from sklearn.preprocessing import LabelBinarizer"
   ]
  },
  {
   "cell_type": "code",
   "execution_count": 47,
   "id": "2516970f",
   "metadata": {},
   "outputs": [
    {
     "data": {
      "text/plain": [
       "SVC(kernel='linear', probability=True)"
      ]
     },
     "execution_count": 47,
     "metadata": {},
     "output_type": "execute_result"
    }
   ],
   "source": [
    "svm_model = SVC(probability = True, kernel = \"linear\")\n",
    "svm_model.fit(X_train_tfidf, y_train )"
   ]
  },
  {
   "cell_type": "code",
   "execution_count": 48,
   "id": "77c0186f",
   "metadata": {},
   "outputs": [
    {
     "data": {
      "text/html": [
       "<div>\n",
       "<style scoped>\n",
       "    .dataframe tbody tr th:only-of-type {\n",
       "        vertical-align: middle;\n",
       "    }\n",
       "\n",
       "    .dataframe tbody tr th {\n",
       "        vertical-align: top;\n",
       "    }\n",
       "\n",
       "    .dataframe thead th {\n",
       "        text-align: right;\n",
       "    }\n",
       "</style>\n",
       "<table border=\"1\" class=\"dataframe\">\n",
       "  <thead>\n",
       "    <tr style=\"text-align: right;\">\n",
       "      <th></th>\n",
       "      <th>Tweet</th>\n",
       "      <th>Label</th>\n",
       "    </tr>\n",
       "  </thead>\n",
       "  <tbody>\n",
       "    <tr>\n",
       "      <th>8225</th>\n",
       "      <td>duterte like welcome all chinese especially co...</td>\n",
       "      <td>neu</td>\n",
       "    </tr>\n",
       "    <tr>\n",
       "      <th>10794</th>\n",
       "      <td>cdc detailed information stating the infected ...</td>\n",
       "      <td>neu</td>\n",
       "    </tr>\n",
       "    <tr>\n",
       "      <th>9163</th>\n",
       "      <td>coronavirus update pandemic</td>\n",
       "      <td>neu</td>\n",
       "    </tr>\n",
       "    <tr>\n",
       "      <th>26591</th>\n",
       "      <td>more than healthcare personnel china infected ...</td>\n",
       "      <td>pos</td>\n",
       "    </tr>\n",
       "    <tr>\n",
       "      <th>6631</th>\n",
       "      <td>brent recoups china virus angst fed speak play...</td>\n",
       "      <td>neu</td>\n",
       "    </tr>\n",
       "    <tr>\n",
       "      <th>...</th>\n",
       "      <td>...</td>\n",
       "      <td>...</td>\n",
       "    </tr>\n",
       "    <tr>\n",
       "      <th>21914</th>\n",
       "      <td>united panic bought striker and are now tellin...</td>\n",
       "      <td>neu</td>\n",
       "    </tr>\n",
       "    <tr>\n",
       "      <th>17453</th>\n",
       "      <td>teehee coronavirus pangolin host</td>\n",
       "      <td>neu</td>\n",
       "    </tr>\n",
       "    <tr>\n",
       "      <th>20344</th>\n",
       "      <td>nzd usd technical bias bearish dow jones brush...</td>\n",
       "      <td>neu</td>\n",
       "    </tr>\n",
       "    <tr>\n",
       "      <th>1878</th>\n",
       "      <td>coronavirus sound like something you catch dri...</td>\n",
       "      <td>neu</td>\n",
       "    </tr>\n",
       "    <tr>\n",
       "      <th>6465</th>\n",
       "      <td>update beijing reported new case pneumonia fro...</td>\n",
       "      <td>neu</td>\n",
       "    </tr>\n",
       "  </tbody>\n",
       "</table>\n",
       "<p>9000 rows × 2 columns</p>\n",
       "</div>"
      ],
      "text/plain": [
       "                                                   Tweet Label\n",
       "8225   duterte like welcome all chinese especially co...   neu\n",
       "10794  cdc detailed information stating the infected ...   neu\n",
       "9163                         coronavirus update pandemic   neu\n",
       "26591  more than healthcare personnel china infected ...   pos\n",
       "6631   brent recoups china virus angst fed speak play...   neu\n",
       "...                                                  ...   ...\n",
       "21914  united panic bought striker and are now tellin...   neu\n",
       "17453                   teehee coronavirus pangolin host   neu\n",
       "20344  nzd usd technical bias bearish dow jones brush...   neu\n",
       "1878   coronavirus sound like something you catch dri...   neu\n",
       "6465   update beijing reported new case pneumonia fro...   neu\n",
       "\n",
       "[9000 rows x 2 columns]"
      ]
     },
     "execution_count": 48,
     "metadata": {},
     "output_type": "execute_result"
    }
   ],
   "source": [
    "svm_predictions = svm_model.predict(X_test_tfidf)\n",
    "Predicted_data = pd.DataFrame()\n",
    "Predicted_data[\"Tweet\"] = X_test\n",
    "Predicted_data[\"Label\"] = svm_predictions\n",
    "Predicted_data"
   ]
  },
  {
   "cell_type": "code",
   "execution_count": 49,
   "id": "03f39220",
   "metadata": {},
   "outputs": [
    {
     "data": {
      "text/plain": [
       "neu    7266\n",
       "neg    1343\n",
       "pos     391\n",
       "Name: Label, dtype: int64"
      ]
     },
     "execution_count": 49,
     "metadata": {},
     "output_type": "execute_result"
    }
   ],
   "source": [
    "Predicted_data[\"Label\"].value_counts()"
   ]
  },
  {
   "cell_type": "code",
   "execution_count": 50,
   "id": "d4273c20",
   "metadata": {},
   "outputs": [
    {
     "data": {
      "text/plain": [
       "90.34444444444445"
      ]
     },
     "execution_count": 50,
     "metadata": {},
     "output_type": "execute_result"
    }
   ],
   "source": [
    "svm_accuracy = accuracy_score(svm_predictions, y_test)*100\n",
    "svm_accuracy"
   ]
  },
  {
   "cell_type": "code",
   "execution_count": 51,
   "id": "63eed68d",
   "metadata": {},
   "outputs": [
    {
     "name": "stdout",
     "output_type": "stream",
     "text": [
      "Classification Report:\n",
      "              precision    recall  f1-score   support\n",
      "\n",
      "         neg       0.90      0.76      0.82      1591\n",
      "         neu       0.91      0.97      0.94      6828\n",
      "         pos       0.79      0.53      0.63       581\n",
      "\n",
      "    accuracy                           0.90      9000\n",
      "   macro avg       0.87      0.75      0.80      9000\n",
      "weighted avg       0.90      0.90      0.90      9000\n",
      "\n"
     ]
    }
   ],
   "source": [
    "print(\"Classification Report:\")\n",
    "print(classification_report(y_test, svm_predictions))"
   ]
  }
 ],
 "metadata": {
  "kernelspec": {
   "display_name": "Python 3",
   "language": "python",
   "name": "python3"
  },
  "language_info": {
   "codemirror_mode": {
    "name": "ipython",
    "version": 3
   },
   "file_extension": ".py",
   "mimetype": "text/x-python",
   "name": "python",
   "nbconvert_exporter": "python",
   "pygments_lexer": "ipython3",
   "version": "3.8.8"
  }
 },
 "nbformat": 4,
 "nbformat_minor": 5
}
